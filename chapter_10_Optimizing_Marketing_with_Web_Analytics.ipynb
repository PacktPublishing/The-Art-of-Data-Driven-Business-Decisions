{
  "nbformat": 4,
  "nbformat_minor": 0,
  "metadata": {
    "colab": {
      "provenance": [],
      "collapsed_sections": []
    },
    "kernelspec": {
      "name": "python3",
      "display_name": "Python 3"
    },
    "language_info": {
      "name": "python"
    }
  },
  "cells": [
    {
      "cell_type": "code",
      "source": [
        "# !pip install mljar-supervised==0.10.2"
      ],
      "metadata": {
        "id": "-PrblbMDn70e"
      },
      "execution_count": 7,
      "outputs": []
    },
    {
      "cell_type": "code",
      "execution_count": 51,
      "metadata": {
        "colab": {
          "base_uri": "https://localhost:8080/",
          "height": 661
        },
        "id": "Ge-MxBclnOk6",
        "outputId": "2c3b1cb7-1262-43c5-87bd-6997c3afa436"
      },
      "outputs": [
        {
          "output_type": "execute_result",
          "data": {
            "text/plain": [
              "       channelGrouping       date        fullVisitorId  \\\n",
              "0       Organic Search 2016-09-02    27294437909732085   \n",
              "1       Organic Search 2016-09-02   982320996976275749   \n",
              "2       Organic Search 2016-09-02  9876750586615598787   \n",
              "3       Organic Search 2016-09-02  3982295596181714479   \n",
              "4       Organic Search 2016-09-02   715569826025005549   \n",
              "...                ...        ...                  ...   \n",
              "282973          Social 2017-01-04  3591531861629139100   \n",
              "282974          Social 2017-01-04   168043908052904808   \n",
              "282975          Social 2017-01-04   256641390199759052   \n",
              "282976          Social 2017-01-04  2709355455991750775   \n",
              "282977          Social 2017-01-04   814900163617805053   \n",
              "\n",
              "                             sessionId  socialEngagementType     visitId  \\\n",
              "0         27294437909732085_1472822600  Not Socially Engaged  1472822600   \n",
              "1        982320996976275749_1472849434  Not Socially Engaged  1472849434   \n",
              "2       9876750586615598787_1472801099  Not Socially Engaged  1472801099   \n",
              "3       3982295596181714479_1472825889  Not Socially Engaged  1472825889   \n",
              "4       0715569826025005549_1472864193  Not Socially Engaged  1472864193   \n",
              "...                                ...                   ...         ...   \n",
              "282973  3591531861629139100_1483534920  Not Socially Engaged  1483534920   \n",
              "282974   168043908052904808_1483541485  Not Socially Engaged  1483541485   \n",
              "282975   256641390199759052_1483556333  Not Socially Engaged  1483556333   \n",
              "282976  2709355455991750775_1483592857  Not Socially Engaged  1483592857   \n",
              "282977  0814900163617805053_1483574474  Not Socially Engaged  1483574474   \n",
              "\n",
              "        visitNumber  visitStartTime device.browser device.operatingSystem  \\\n",
              "0                 2      1472822600         Chrome                Android   \n",
              "1                 1      1472849434         Safari              Macintosh   \n",
              "2                 1      1472801099         Chrome                Windows   \n",
              "3                 1      1472825889         Chrome              Macintosh   \n",
              "4                 1      1472864193         Chrome                Windows   \n",
              "...             ...             ...            ...                    ...   \n",
              "282973            1      1483534920         Chrome              Macintosh   \n",
              "282974            1      1483541485         Chrome                Windows   \n",
              "282975            1      1483556333         Chrome                    iOS   \n",
              "282976            1      1483592864         Chrome                Windows   \n",
              "282977            1      1483574474         Chrome                Android   \n",
              "\n",
              "        device.isMobile device.deviceCategory geoNetwork.continent  \\\n",
              "0                  True                mobile               Europe   \n",
              "1                 False               desktop               Europe   \n",
              "2                 False               desktop               Europe   \n",
              "3                 False               desktop                 Asia   \n",
              "4                 False               desktop             Americas   \n",
              "...                 ...                   ...                  ...   \n",
              "282973            False               desktop               Europe   \n",
              "282974            False               desktop               Europe   \n",
              "282975             True                tablet             Americas   \n",
              "282976            False               desktop                 Asia   \n",
              "282977             True                mobile             Americas   \n",
              "\n",
              "       geoNetwork.subContinent geoNetwork.country  \\\n",
              "0              Northern Europe     United Kingdom   \n",
              "1               Western Europe             France   \n",
              "2               Western Europe        Netherlands   \n",
              "3                 Eastern Asia             Taiwan   \n",
              "4                South America              Chile   \n",
              "...                        ...                ...   \n",
              "282973         Northern Europe             Sweden   \n",
              "282974         Southern Europe              Italy   \n",
              "282975        Northern America      United States   \n",
              "282976          Southeast Asia          Indonesia   \n",
              "282977         Central America             Mexico   \n",
              "\n",
              "                    geoNetwork.region               geoNetwork.metro  \\\n",
              "0       not available in demo dataset  not available in demo dataset   \n",
              "1       not available in demo dataset  not available in demo dataset   \n",
              "2       not available in demo dataset  not available in demo dataset   \n",
              "3       not available in demo dataset  not available in demo dataset   \n",
              "4        Santiago Metropolitan Region                      (not set)   \n",
              "...                               ...                            ...   \n",
              "282973               Stockholm County                      (not set)   \n",
              "282974  not available in demo dataset  not available in demo dataset   \n",
              "282975  not available in demo dataset  not available in demo dataset   \n",
              "282976  not available in demo dataset  not available in demo dataset   \n",
              "282977  not available in demo dataset  not available in demo dataset   \n",
              "\n",
              "                      geoNetwork.city geoNetwork.networkDomain  totals.visits  \\\n",
              "0       not available in demo dataset          unknown.unknown              1   \n",
              "1       not available in demo dataset               wanadoo.fr              1   \n",
              "2       not available in demo dataset            igmholding.nl              1   \n",
              "3       not available in demo dataset                hinet.net              1   \n",
              "4                            Santiago              movistar.cl              1   \n",
              "...                               ...                      ...            ...   \n",
              "282973                      Stockholm           dgcsystems.net              1   \n",
              "282974  not available in demo dataset        electrosystem.com              1   \n",
              "282975  not available in demo dataset                   rr.com              1   \n",
              "282976  not available in demo dataset          unknown.unknown              1   \n",
              "282977  not available in demo dataset        cybercable.net.mx              1   \n",
              "\n",
              "        totals.hits  totals.pageviews  totals.bounces  totals.newVisits  \\\n",
              "0                 1               1.0             1.0               NaN   \n",
              "1                 1               1.0             1.0               1.0   \n",
              "2                 1               1.0             1.0               1.0   \n",
              "3                 1               1.0             1.0               1.0   \n",
              "4                 1               1.0             1.0               1.0   \n",
              "...             ...               ...             ...               ...   \n",
              "282973            5               5.0             NaN               1.0   \n",
              "282974            7               7.0             NaN               1.0   \n",
              "282975           11               7.0             NaN               1.0   \n",
              "282976           24              22.0             NaN               1.0   \n",
              "282977           31              31.0             NaN               1.0   \n",
              "\n",
              "        totals.transactionRevenue trafficSource.campaign trafficSource.source  \\\n",
              "0                             NaN              (not set)               google   \n",
              "1                             NaN              (not set)               google   \n",
              "2                             NaN              (not set)               google   \n",
              "3                             NaN              (not set)               google   \n",
              "4                             NaN              (not set)               google   \n",
              "...                           ...                    ...                  ...   \n",
              "282973                        NaN              (not set)            quora.com   \n",
              "282974                        NaN              (not set)            quora.com   \n",
              "282975                        NaN              (not set)        m.youtube.com   \n",
              "282976                        NaN              (not set)         facebook.com   \n",
              "282977                        NaN              (not set)          youtube.com   \n",
              "\n",
              "       trafficSource.medium trafficSource.keyword trafficSource.isTrueDirect  \\\n",
              "0                   organic        (not provided)                       True   \n",
              "1                   organic        (not provided)                        NaN   \n",
              "2                   organic        (not provided)                        NaN   \n",
              "3                   organic        (not provided)                        NaN   \n",
              "4                   organic        (not provided)                        NaN   \n",
              "...                     ...                   ...                        ...   \n",
              "282973             referral                   NaN                        NaN   \n",
              "282974             referral                   NaN                        NaN   \n",
              "282975             referral                   NaN                        NaN   \n",
              "282976             referral                   NaN                        NaN   \n",
              "282977             referral                   NaN                        NaN   \n",
              "\n",
              "                               trafficSource.referralPath  \n",
              "0                                                     NaN  \n",
              "1                                                     NaN  \n",
              "2                                                     NaN  \n",
              "3                                                     NaN  \n",
              "4                                                     NaN  \n",
              "...                                                   ...  \n",
              "282973  /Where-can-I-buy-a-stuffed-Go-language-gopher-...  \n",
              "282974  /Where-can-I-buy-a-stuffed-Go-language-gopher-...  \n",
              "282975                                             /watch  \n",
              "282976                                             /l.php  \n",
              "282977                                  /yt/about/es-419/  \n",
              "\n",
              "[282978 rows x 31 columns]"
            ],
            "text/html": [
              "\n",
              "  <div id=\"df-39b4e7e4-50f6-4a81-8464-72e412606425\">\n",
              "    <div class=\"colab-df-container\">\n",
              "      <div>\n",
              "<style scoped>\n",
              "    .dataframe tbody tr th:only-of-type {\n",
              "        vertical-align: middle;\n",
              "    }\n",
              "\n",
              "    .dataframe tbody tr th {\n",
              "        vertical-align: top;\n",
              "    }\n",
              "\n",
              "    .dataframe thead th {\n",
              "        text-align: right;\n",
              "    }\n",
              "</style>\n",
              "<table border=\"1\" class=\"dataframe\">\n",
              "  <thead>\n",
              "    <tr style=\"text-align: right;\">\n",
              "      <th></th>\n",
              "      <th>channelGrouping</th>\n",
              "      <th>date</th>\n",
              "      <th>fullVisitorId</th>\n",
              "      <th>sessionId</th>\n",
              "      <th>socialEngagementType</th>\n",
              "      <th>visitId</th>\n",
              "      <th>visitNumber</th>\n",
              "      <th>visitStartTime</th>\n",
              "      <th>device.browser</th>\n",
              "      <th>device.operatingSystem</th>\n",
              "      <th>device.isMobile</th>\n",
              "      <th>device.deviceCategory</th>\n",
              "      <th>geoNetwork.continent</th>\n",
              "      <th>geoNetwork.subContinent</th>\n",
              "      <th>geoNetwork.country</th>\n",
              "      <th>geoNetwork.region</th>\n",
              "      <th>geoNetwork.metro</th>\n",
              "      <th>geoNetwork.city</th>\n",
              "      <th>geoNetwork.networkDomain</th>\n",
              "      <th>totals.visits</th>\n",
              "      <th>totals.hits</th>\n",
              "      <th>totals.pageviews</th>\n",
              "      <th>totals.bounces</th>\n",
              "      <th>totals.newVisits</th>\n",
              "      <th>totals.transactionRevenue</th>\n",
              "      <th>trafficSource.campaign</th>\n",
              "      <th>trafficSource.source</th>\n",
              "      <th>trafficSource.medium</th>\n",
              "      <th>trafficSource.keyword</th>\n",
              "      <th>trafficSource.isTrueDirect</th>\n",
              "      <th>trafficSource.referralPath</th>\n",
              "    </tr>\n",
              "  </thead>\n",
              "  <tbody>\n",
              "    <tr>\n",
              "      <th>0</th>\n",
              "      <td>Organic Search</td>\n",
              "      <td>2016-09-02</td>\n",
              "      <td>27294437909732085</td>\n",
              "      <td>27294437909732085_1472822600</td>\n",
              "      <td>Not Socially Engaged</td>\n",
              "      <td>1472822600</td>\n",
              "      <td>2</td>\n",
              "      <td>1472822600</td>\n",
              "      <td>Chrome</td>\n",
              "      <td>Android</td>\n",
              "      <td>True</td>\n",
              "      <td>mobile</td>\n",
              "      <td>Europe</td>\n",
              "      <td>Northern Europe</td>\n",
              "      <td>United Kingdom</td>\n",
              "      <td>not available in demo dataset</td>\n",
              "      <td>not available in demo dataset</td>\n",
              "      <td>not available in demo dataset</td>\n",
              "      <td>unknown.unknown</td>\n",
              "      <td>1</td>\n",
              "      <td>1</td>\n",
              "      <td>1.0</td>\n",
              "      <td>1.0</td>\n",
              "      <td>NaN</td>\n",
              "      <td>NaN</td>\n",
              "      <td>(not set)</td>\n",
              "      <td>google</td>\n",
              "      <td>organic</td>\n",
              "      <td>(not provided)</td>\n",
              "      <td>True</td>\n",
              "      <td>NaN</td>\n",
              "    </tr>\n",
              "    <tr>\n",
              "      <th>1</th>\n",
              "      <td>Organic Search</td>\n",
              "      <td>2016-09-02</td>\n",
              "      <td>982320996976275749</td>\n",
              "      <td>982320996976275749_1472849434</td>\n",
              "      <td>Not Socially Engaged</td>\n",
              "      <td>1472849434</td>\n",
              "      <td>1</td>\n",
              "      <td>1472849434</td>\n",
              "      <td>Safari</td>\n",
              "      <td>Macintosh</td>\n",
              "      <td>False</td>\n",
              "      <td>desktop</td>\n",
              "      <td>Europe</td>\n",
              "      <td>Western Europe</td>\n",
              "      <td>France</td>\n",
              "      <td>not available in demo dataset</td>\n",
              "      <td>not available in demo dataset</td>\n",
              "      <td>not available in demo dataset</td>\n",
              "      <td>wanadoo.fr</td>\n",
              "      <td>1</td>\n",
              "      <td>1</td>\n",
              "      <td>1.0</td>\n",
              "      <td>1.0</td>\n",
              "      <td>1.0</td>\n",
              "      <td>NaN</td>\n",
              "      <td>(not set)</td>\n",
              "      <td>google</td>\n",
              "      <td>organic</td>\n",
              "      <td>(not provided)</td>\n",
              "      <td>NaN</td>\n",
              "      <td>NaN</td>\n",
              "    </tr>\n",
              "    <tr>\n",
              "      <th>2</th>\n",
              "      <td>Organic Search</td>\n",
              "      <td>2016-09-02</td>\n",
              "      <td>9876750586615598787</td>\n",
              "      <td>9876750586615598787_1472801099</td>\n",
              "      <td>Not Socially Engaged</td>\n",
              "      <td>1472801099</td>\n",
              "      <td>1</td>\n",
              "      <td>1472801099</td>\n",
              "      <td>Chrome</td>\n",
              "      <td>Windows</td>\n",
              "      <td>False</td>\n",
              "      <td>desktop</td>\n",
              "      <td>Europe</td>\n",
              "      <td>Western Europe</td>\n",
              "      <td>Netherlands</td>\n",
              "      <td>not available in demo dataset</td>\n",
              "      <td>not available in demo dataset</td>\n",
              "      <td>not available in demo dataset</td>\n",
              "      <td>igmholding.nl</td>\n",
              "      <td>1</td>\n",
              "      <td>1</td>\n",
              "      <td>1.0</td>\n",
              "      <td>1.0</td>\n",
              "      <td>1.0</td>\n",
              "      <td>NaN</td>\n",
              "      <td>(not set)</td>\n",
              "      <td>google</td>\n",
              "      <td>organic</td>\n",
              "      <td>(not provided)</td>\n",
              "      <td>NaN</td>\n",
              "      <td>NaN</td>\n",
              "    </tr>\n",
              "    <tr>\n",
              "      <th>3</th>\n",
              "      <td>Organic Search</td>\n",
              "      <td>2016-09-02</td>\n",
              "      <td>3982295596181714479</td>\n",
              "      <td>3982295596181714479_1472825889</td>\n",
              "      <td>Not Socially Engaged</td>\n",
              "      <td>1472825889</td>\n",
              "      <td>1</td>\n",
              "      <td>1472825889</td>\n",
              "      <td>Chrome</td>\n",
              "      <td>Macintosh</td>\n",
              "      <td>False</td>\n",
              "      <td>desktop</td>\n",
              "      <td>Asia</td>\n",
              "      <td>Eastern Asia</td>\n",
              "      <td>Taiwan</td>\n",
              "      <td>not available in demo dataset</td>\n",
              "      <td>not available in demo dataset</td>\n",
              "      <td>not available in demo dataset</td>\n",
              "      <td>hinet.net</td>\n",
              "      <td>1</td>\n",
              "      <td>1</td>\n",
              "      <td>1.0</td>\n",
              "      <td>1.0</td>\n",
              "      <td>1.0</td>\n",
              "      <td>NaN</td>\n",
              "      <td>(not set)</td>\n",
              "      <td>google</td>\n",
              "      <td>organic</td>\n",
              "      <td>(not provided)</td>\n",
              "      <td>NaN</td>\n",
              "      <td>NaN</td>\n",
              "    </tr>\n",
              "    <tr>\n",
              "      <th>4</th>\n",
              "      <td>Organic Search</td>\n",
              "      <td>2016-09-02</td>\n",
              "      <td>715569826025005549</td>\n",
              "      <td>0715569826025005549_1472864193</td>\n",
              "      <td>Not Socially Engaged</td>\n",
              "      <td>1472864193</td>\n",
              "      <td>1</td>\n",
              "      <td>1472864193</td>\n",
              "      <td>Chrome</td>\n",
              "      <td>Windows</td>\n",
              "      <td>False</td>\n",
              "      <td>desktop</td>\n",
              "      <td>Americas</td>\n",
              "      <td>South America</td>\n",
              "      <td>Chile</td>\n",
              "      <td>Santiago Metropolitan Region</td>\n",
              "      <td>(not set)</td>\n",
              "      <td>Santiago</td>\n",
              "      <td>movistar.cl</td>\n",
              "      <td>1</td>\n",
              "      <td>1</td>\n",
              "      <td>1.0</td>\n",
              "      <td>1.0</td>\n",
              "      <td>1.0</td>\n",
              "      <td>NaN</td>\n",
              "      <td>(not set)</td>\n",
              "      <td>google</td>\n",
              "      <td>organic</td>\n",
              "      <td>(not provided)</td>\n",
              "      <td>NaN</td>\n",
              "      <td>NaN</td>\n",
              "    </tr>\n",
              "    <tr>\n",
              "      <th>...</th>\n",
              "      <td>...</td>\n",
              "      <td>...</td>\n",
              "      <td>...</td>\n",
              "      <td>...</td>\n",
              "      <td>...</td>\n",
              "      <td>...</td>\n",
              "      <td>...</td>\n",
              "      <td>...</td>\n",
              "      <td>...</td>\n",
              "      <td>...</td>\n",
              "      <td>...</td>\n",
              "      <td>...</td>\n",
              "      <td>...</td>\n",
              "      <td>...</td>\n",
              "      <td>...</td>\n",
              "      <td>...</td>\n",
              "      <td>...</td>\n",
              "      <td>...</td>\n",
              "      <td>...</td>\n",
              "      <td>...</td>\n",
              "      <td>...</td>\n",
              "      <td>...</td>\n",
              "      <td>...</td>\n",
              "      <td>...</td>\n",
              "      <td>...</td>\n",
              "      <td>...</td>\n",
              "      <td>...</td>\n",
              "      <td>...</td>\n",
              "      <td>...</td>\n",
              "      <td>...</td>\n",
              "      <td>...</td>\n",
              "    </tr>\n",
              "    <tr>\n",
              "      <th>282973</th>\n",
              "      <td>Social</td>\n",
              "      <td>2017-01-04</td>\n",
              "      <td>3591531861629139100</td>\n",
              "      <td>3591531861629139100_1483534920</td>\n",
              "      <td>Not Socially Engaged</td>\n",
              "      <td>1483534920</td>\n",
              "      <td>1</td>\n",
              "      <td>1483534920</td>\n",
              "      <td>Chrome</td>\n",
              "      <td>Macintosh</td>\n",
              "      <td>False</td>\n",
              "      <td>desktop</td>\n",
              "      <td>Europe</td>\n",
              "      <td>Northern Europe</td>\n",
              "      <td>Sweden</td>\n",
              "      <td>Stockholm County</td>\n",
              "      <td>(not set)</td>\n",
              "      <td>Stockholm</td>\n",
              "      <td>dgcsystems.net</td>\n",
              "      <td>1</td>\n",
              "      <td>5</td>\n",
              "      <td>5.0</td>\n",
              "      <td>NaN</td>\n",
              "      <td>1.0</td>\n",
              "      <td>NaN</td>\n",
              "      <td>(not set)</td>\n",
              "      <td>quora.com</td>\n",
              "      <td>referral</td>\n",
              "      <td>NaN</td>\n",
              "      <td>NaN</td>\n",
              "      <td>/Where-can-I-buy-a-stuffed-Go-language-gopher-...</td>\n",
              "    </tr>\n",
              "    <tr>\n",
              "      <th>282974</th>\n",
              "      <td>Social</td>\n",
              "      <td>2017-01-04</td>\n",
              "      <td>168043908052904808</td>\n",
              "      <td>168043908052904808_1483541485</td>\n",
              "      <td>Not Socially Engaged</td>\n",
              "      <td>1483541485</td>\n",
              "      <td>1</td>\n",
              "      <td>1483541485</td>\n",
              "      <td>Chrome</td>\n",
              "      <td>Windows</td>\n",
              "      <td>False</td>\n",
              "      <td>desktop</td>\n",
              "      <td>Europe</td>\n",
              "      <td>Southern Europe</td>\n",
              "      <td>Italy</td>\n",
              "      <td>not available in demo dataset</td>\n",
              "      <td>not available in demo dataset</td>\n",
              "      <td>not available in demo dataset</td>\n",
              "      <td>electrosystem.com</td>\n",
              "      <td>1</td>\n",
              "      <td>7</td>\n",
              "      <td>7.0</td>\n",
              "      <td>NaN</td>\n",
              "      <td>1.0</td>\n",
              "      <td>NaN</td>\n",
              "      <td>(not set)</td>\n",
              "      <td>quora.com</td>\n",
              "      <td>referral</td>\n",
              "      <td>NaN</td>\n",
              "      <td>NaN</td>\n",
              "      <td>/Where-can-I-buy-a-stuffed-Go-language-gopher-...</td>\n",
              "    </tr>\n",
              "    <tr>\n",
              "      <th>282975</th>\n",
              "      <td>Social</td>\n",
              "      <td>2017-01-04</td>\n",
              "      <td>256641390199759052</td>\n",
              "      <td>256641390199759052_1483556333</td>\n",
              "      <td>Not Socially Engaged</td>\n",
              "      <td>1483556333</td>\n",
              "      <td>1</td>\n",
              "      <td>1483556333</td>\n",
              "      <td>Chrome</td>\n",
              "      <td>iOS</td>\n",
              "      <td>True</td>\n",
              "      <td>tablet</td>\n",
              "      <td>Americas</td>\n",
              "      <td>Northern America</td>\n",
              "      <td>United States</td>\n",
              "      <td>not available in demo dataset</td>\n",
              "      <td>not available in demo dataset</td>\n",
              "      <td>not available in demo dataset</td>\n",
              "      <td>rr.com</td>\n",
              "      <td>1</td>\n",
              "      <td>11</td>\n",
              "      <td>7.0</td>\n",
              "      <td>NaN</td>\n",
              "      <td>1.0</td>\n",
              "      <td>NaN</td>\n",
              "      <td>(not set)</td>\n",
              "      <td>m.youtube.com</td>\n",
              "      <td>referral</td>\n",
              "      <td>NaN</td>\n",
              "      <td>NaN</td>\n",
              "      <td>/watch</td>\n",
              "    </tr>\n",
              "    <tr>\n",
              "      <th>282976</th>\n",
              "      <td>Social</td>\n",
              "      <td>2017-01-04</td>\n",
              "      <td>2709355455991750775</td>\n",
              "      <td>2709355455991750775_1483592857</td>\n",
              "      <td>Not Socially Engaged</td>\n",
              "      <td>1483592857</td>\n",
              "      <td>1</td>\n",
              "      <td>1483592864</td>\n",
              "      <td>Chrome</td>\n",
              "      <td>Windows</td>\n",
              "      <td>False</td>\n",
              "      <td>desktop</td>\n",
              "      <td>Asia</td>\n",
              "      <td>Southeast Asia</td>\n",
              "      <td>Indonesia</td>\n",
              "      <td>not available in demo dataset</td>\n",
              "      <td>not available in demo dataset</td>\n",
              "      <td>not available in demo dataset</td>\n",
              "      <td>unknown.unknown</td>\n",
              "      <td>1</td>\n",
              "      <td>24</td>\n",
              "      <td>22.0</td>\n",
              "      <td>NaN</td>\n",
              "      <td>1.0</td>\n",
              "      <td>NaN</td>\n",
              "      <td>(not set)</td>\n",
              "      <td>facebook.com</td>\n",
              "      <td>referral</td>\n",
              "      <td>NaN</td>\n",
              "      <td>NaN</td>\n",
              "      <td>/l.php</td>\n",
              "    </tr>\n",
              "    <tr>\n",
              "      <th>282977</th>\n",
              "      <td>Social</td>\n",
              "      <td>2017-01-04</td>\n",
              "      <td>814900163617805053</td>\n",
              "      <td>0814900163617805053_1483574474</td>\n",
              "      <td>Not Socially Engaged</td>\n",
              "      <td>1483574474</td>\n",
              "      <td>1</td>\n",
              "      <td>1483574474</td>\n",
              "      <td>Chrome</td>\n",
              "      <td>Android</td>\n",
              "      <td>True</td>\n",
              "      <td>mobile</td>\n",
              "      <td>Americas</td>\n",
              "      <td>Central America</td>\n",
              "      <td>Mexico</td>\n",
              "      <td>not available in demo dataset</td>\n",
              "      <td>not available in demo dataset</td>\n",
              "      <td>not available in demo dataset</td>\n",
              "      <td>cybercable.net.mx</td>\n",
              "      <td>1</td>\n",
              "      <td>31</td>\n",
              "      <td>31.0</td>\n",
              "      <td>NaN</td>\n",
              "      <td>1.0</td>\n",
              "      <td>NaN</td>\n",
              "      <td>(not set)</td>\n",
              "      <td>youtube.com</td>\n",
              "      <td>referral</td>\n",
              "      <td>NaN</td>\n",
              "      <td>NaN</td>\n",
              "      <td>/yt/about/es-419/</td>\n",
              "    </tr>\n",
              "  </tbody>\n",
              "</table>\n",
              "<p>282978 rows × 31 columns</p>\n",
              "</div>\n",
              "      <button class=\"colab-df-convert\" onclick=\"convertToInteractive('df-39b4e7e4-50f6-4a81-8464-72e412606425')\"\n",
              "              title=\"Convert this dataframe to an interactive table.\"\n",
              "              style=\"display:none;\">\n",
              "        \n",
              "  <svg xmlns=\"http://www.w3.org/2000/svg\" height=\"24px\"viewBox=\"0 0 24 24\"\n",
              "       width=\"24px\">\n",
              "    <path d=\"M0 0h24v24H0V0z\" fill=\"none\"/>\n",
              "    <path d=\"M18.56 5.44l.94 2.06.94-2.06 2.06-.94-2.06-.94-.94-2.06-.94 2.06-2.06.94zm-11 1L8.5 8.5l.94-2.06 2.06-.94-2.06-.94L8.5 2.5l-.94 2.06-2.06.94zm10 10l.94 2.06.94-2.06 2.06-.94-2.06-.94-.94-2.06-.94 2.06-2.06.94z\"/><path d=\"M17.41 7.96l-1.37-1.37c-.4-.4-.92-.59-1.43-.59-.52 0-1.04.2-1.43.59L10.3 9.45l-7.72 7.72c-.78.78-.78 2.05 0 2.83L4 21.41c.39.39.9.59 1.41.59.51 0 1.02-.2 1.41-.59l7.78-7.78 2.81-2.81c.8-.78.8-2.07 0-2.86zM5.41 20L4 18.59l7.72-7.72 1.47 1.35L5.41 20z\"/>\n",
              "  </svg>\n",
              "      </button>\n",
              "      \n",
              "  <style>\n",
              "    .colab-df-container {\n",
              "      display:flex;\n",
              "      flex-wrap:wrap;\n",
              "      gap: 12px;\n",
              "    }\n",
              "\n",
              "    .colab-df-convert {\n",
              "      background-color: #E8F0FE;\n",
              "      border: none;\n",
              "      border-radius: 50%;\n",
              "      cursor: pointer;\n",
              "      display: none;\n",
              "      fill: #1967D2;\n",
              "      height: 32px;\n",
              "      padding: 0 0 0 0;\n",
              "      width: 32px;\n",
              "    }\n",
              "\n",
              "    .colab-df-convert:hover {\n",
              "      background-color: #E2EBFA;\n",
              "      box-shadow: 0px 1px 2px rgba(60, 64, 67, 0.3), 0px 1px 3px 1px rgba(60, 64, 67, 0.15);\n",
              "      fill: #174EA6;\n",
              "    }\n",
              "\n",
              "    [theme=dark] .colab-df-convert {\n",
              "      background-color: #3B4455;\n",
              "      fill: #D2E3FC;\n",
              "    }\n",
              "\n",
              "    [theme=dark] .colab-df-convert:hover {\n",
              "      background-color: #434B5C;\n",
              "      box-shadow: 0px 1px 3px 1px rgba(0, 0, 0, 0.15);\n",
              "      filter: drop-shadow(0px 1px 2px rgba(0, 0, 0, 0.3));\n",
              "      fill: #FFFFFF;\n",
              "    }\n",
              "  </style>\n",
              "\n",
              "      <script>\n",
              "        const buttonEl =\n",
              "          document.querySelector('#df-39b4e7e4-50f6-4a81-8464-72e412606425 button.colab-df-convert');\n",
              "        buttonEl.style.display =\n",
              "          google.colab.kernel.accessAllowed ? 'block' : 'none';\n",
              "\n",
              "        async function convertToInteractive(key) {\n",
              "          const element = document.querySelector('#df-39b4e7e4-50f6-4a81-8464-72e412606425');\n",
              "          const dataTable =\n",
              "            await google.colab.kernel.invokeFunction('convertToInteractive',\n",
              "                                                     [key], {});\n",
              "          if (!dataTable) return;\n",
              "\n",
              "          const docLinkHtml = 'Like what you see? Visit the ' +\n",
              "            '<a target=\"_blank\" href=https://colab.research.google.com/notebooks/data_table.ipynb>data table notebook</a>'\n",
              "            + ' to learn more about interactive tables.';\n",
              "          element.innerHTML = '';\n",
              "          dataTable['output_type'] = 'display_data';\n",
              "          await google.colab.output.renderOutput(dataTable, element);\n",
              "          const docLink = document.createElement('div');\n",
              "          docLink.innerHTML = docLinkHtml;\n",
              "          element.appendChild(docLink);\n",
              "        }\n",
              "      </script>\n",
              "    </div>\n",
              "  </div>\n",
              "  "
            ]
          },
          "metadata": {},
          "execution_count": 51
        }
      ],
      "source": [
        "import pandas as pd\n",
        "\n",
        "pd.options.display.max_rows = 20\n",
        "pd.options.display.max_columns = 50\n",
        "pd.options.display.precision = 2\n",
        "\n",
        "df = pd.read_csv('google_analytics_clean_data.csv')\n",
        "df[\"date\"] = pd.to_datetime(df[\"date\"], format=\"%Y%m%d\") # seting the column as pandas datetime\n",
        "df"
      ]
    },
    {
      "cell_type": "code",
      "source": [
        "df.head()"
      ],
      "metadata": {
        "colab": {
          "base_uri": "https://localhost:8080/",
          "height": 357
        },
        "id": "qQbNPvIsKqQr",
        "outputId": "bcdaf976-aeea-4a6f-ed37-17d977955992"
      },
      "execution_count": 52,
      "outputs": [
        {
          "output_type": "execute_result",
          "data": {
            "text/plain": [
              "  channelGrouping       date        fullVisitorId  \\\n",
              "0  Organic Search 2016-09-02    27294437909732085   \n",
              "1  Organic Search 2016-09-02   982320996976275749   \n",
              "2  Organic Search 2016-09-02  9876750586615598787   \n",
              "3  Organic Search 2016-09-02  3982295596181714479   \n",
              "4  Organic Search 2016-09-02   715569826025005549   \n",
              "\n",
              "                        sessionId  socialEngagementType     visitId  \\\n",
              "0    27294437909732085_1472822600  Not Socially Engaged  1472822600   \n",
              "1   982320996976275749_1472849434  Not Socially Engaged  1472849434   \n",
              "2  9876750586615598787_1472801099  Not Socially Engaged  1472801099   \n",
              "3  3982295596181714479_1472825889  Not Socially Engaged  1472825889   \n",
              "4  0715569826025005549_1472864193  Not Socially Engaged  1472864193   \n",
              "\n",
              "   visitNumber  visitStartTime device.browser device.operatingSystem  \\\n",
              "0            2      1472822600         Chrome                Android   \n",
              "1            1      1472849434         Safari              Macintosh   \n",
              "2            1      1472801099         Chrome                Windows   \n",
              "3            1      1472825889         Chrome              Macintosh   \n",
              "4            1      1472864193         Chrome                Windows   \n",
              "\n",
              "   device.isMobile device.deviceCategory geoNetwork.continent  \\\n",
              "0             True                mobile               Europe   \n",
              "1            False               desktop               Europe   \n",
              "2            False               desktop               Europe   \n",
              "3            False               desktop                 Asia   \n",
              "4            False               desktop             Americas   \n",
              "\n",
              "  geoNetwork.subContinent geoNetwork.country              geoNetwork.region  \\\n",
              "0         Northern Europe     United Kingdom  not available in demo dataset   \n",
              "1          Western Europe             France  not available in demo dataset   \n",
              "2          Western Europe        Netherlands  not available in demo dataset   \n",
              "3            Eastern Asia             Taiwan  not available in demo dataset   \n",
              "4           South America              Chile   Santiago Metropolitan Region   \n",
              "\n",
              "                geoNetwork.metro                geoNetwork.city  \\\n",
              "0  not available in demo dataset  not available in demo dataset   \n",
              "1  not available in demo dataset  not available in demo dataset   \n",
              "2  not available in demo dataset  not available in demo dataset   \n",
              "3  not available in demo dataset  not available in demo dataset   \n",
              "4                      (not set)                       Santiago   \n",
              "\n",
              "  geoNetwork.networkDomain  totals.visits  totals.hits  totals.pageviews  \\\n",
              "0          unknown.unknown              1            1               1.0   \n",
              "1               wanadoo.fr              1            1               1.0   \n",
              "2            igmholding.nl              1            1               1.0   \n",
              "3                hinet.net              1            1               1.0   \n",
              "4              movistar.cl              1            1               1.0   \n",
              "\n",
              "   totals.bounces  totals.newVisits  totals.transactionRevenue  \\\n",
              "0             1.0               NaN                        NaN   \n",
              "1             1.0               1.0                        NaN   \n",
              "2             1.0               1.0                        NaN   \n",
              "3             1.0               1.0                        NaN   \n",
              "4             1.0               1.0                        NaN   \n",
              "\n",
              "  trafficSource.campaign trafficSource.source trafficSource.medium  \\\n",
              "0              (not set)               google              organic   \n",
              "1              (not set)               google              organic   \n",
              "2              (not set)               google              organic   \n",
              "3              (not set)               google              organic   \n",
              "4              (not set)               google              organic   \n",
              "\n",
              "  trafficSource.keyword trafficSource.isTrueDirect trafficSource.referralPath  \n",
              "0        (not provided)                       True                        NaN  \n",
              "1        (not provided)                        NaN                        NaN  \n",
              "2        (not provided)                        NaN                        NaN  \n",
              "3        (not provided)                        NaN                        NaN  \n",
              "4        (not provided)                        NaN                        NaN  "
            ],
            "text/html": [
              "\n",
              "  <div id=\"df-ad95b74c-fb34-45f0-87c5-fadf14f2d23f\">\n",
              "    <div class=\"colab-df-container\">\n",
              "      <div>\n",
              "<style scoped>\n",
              "    .dataframe tbody tr th:only-of-type {\n",
              "        vertical-align: middle;\n",
              "    }\n",
              "\n",
              "    .dataframe tbody tr th {\n",
              "        vertical-align: top;\n",
              "    }\n",
              "\n",
              "    .dataframe thead th {\n",
              "        text-align: right;\n",
              "    }\n",
              "</style>\n",
              "<table border=\"1\" class=\"dataframe\">\n",
              "  <thead>\n",
              "    <tr style=\"text-align: right;\">\n",
              "      <th></th>\n",
              "      <th>channelGrouping</th>\n",
              "      <th>date</th>\n",
              "      <th>fullVisitorId</th>\n",
              "      <th>sessionId</th>\n",
              "      <th>socialEngagementType</th>\n",
              "      <th>visitId</th>\n",
              "      <th>visitNumber</th>\n",
              "      <th>visitStartTime</th>\n",
              "      <th>device.browser</th>\n",
              "      <th>device.operatingSystem</th>\n",
              "      <th>device.isMobile</th>\n",
              "      <th>device.deviceCategory</th>\n",
              "      <th>geoNetwork.continent</th>\n",
              "      <th>geoNetwork.subContinent</th>\n",
              "      <th>geoNetwork.country</th>\n",
              "      <th>geoNetwork.region</th>\n",
              "      <th>geoNetwork.metro</th>\n",
              "      <th>geoNetwork.city</th>\n",
              "      <th>geoNetwork.networkDomain</th>\n",
              "      <th>totals.visits</th>\n",
              "      <th>totals.hits</th>\n",
              "      <th>totals.pageviews</th>\n",
              "      <th>totals.bounces</th>\n",
              "      <th>totals.newVisits</th>\n",
              "      <th>totals.transactionRevenue</th>\n",
              "      <th>trafficSource.campaign</th>\n",
              "      <th>trafficSource.source</th>\n",
              "      <th>trafficSource.medium</th>\n",
              "      <th>trafficSource.keyword</th>\n",
              "      <th>trafficSource.isTrueDirect</th>\n",
              "      <th>trafficSource.referralPath</th>\n",
              "    </tr>\n",
              "  </thead>\n",
              "  <tbody>\n",
              "    <tr>\n",
              "      <th>0</th>\n",
              "      <td>Organic Search</td>\n",
              "      <td>2016-09-02</td>\n",
              "      <td>27294437909732085</td>\n",
              "      <td>27294437909732085_1472822600</td>\n",
              "      <td>Not Socially Engaged</td>\n",
              "      <td>1472822600</td>\n",
              "      <td>2</td>\n",
              "      <td>1472822600</td>\n",
              "      <td>Chrome</td>\n",
              "      <td>Android</td>\n",
              "      <td>True</td>\n",
              "      <td>mobile</td>\n",
              "      <td>Europe</td>\n",
              "      <td>Northern Europe</td>\n",
              "      <td>United Kingdom</td>\n",
              "      <td>not available in demo dataset</td>\n",
              "      <td>not available in demo dataset</td>\n",
              "      <td>not available in demo dataset</td>\n",
              "      <td>unknown.unknown</td>\n",
              "      <td>1</td>\n",
              "      <td>1</td>\n",
              "      <td>1.0</td>\n",
              "      <td>1.0</td>\n",
              "      <td>NaN</td>\n",
              "      <td>NaN</td>\n",
              "      <td>(not set)</td>\n",
              "      <td>google</td>\n",
              "      <td>organic</td>\n",
              "      <td>(not provided)</td>\n",
              "      <td>True</td>\n",
              "      <td>NaN</td>\n",
              "    </tr>\n",
              "    <tr>\n",
              "      <th>1</th>\n",
              "      <td>Organic Search</td>\n",
              "      <td>2016-09-02</td>\n",
              "      <td>982320996976275749</td>\n",
              "      <td>982320996976275749_1472849434</td>\n",
              "      <td>Not Socially Engaged</td>\n",
              "      <td>1472849434</td>\n",
              "      <td>1</td>\n",
              "      <td>1472849434</td>\n",
              "      <td>Safari</td>\n",
              "      <td>Macintosh</td>\n",
              "      <td>False</td>\n",
              "      <td>desktop</td>\n",
              "      <td>Europe</td>\n",
              "      <td>Western Europe</td>\n",
              "      <td>France</td>\n",
              "      <td>not available in demo dataset</td>\n",
              "      <td>not available in demo dataset</td>\n",
              "      <td>not available in demo dataset</td>\n",
              "      <td>wanadoo.fr</td>\n",
              "      <td>1</td>\n",
              "      <td>1</td>\n",
              "      <td>1.0</td>\n",
              "      <td>1.0</td>\n",
              "      <td>1.0</td>\n",
              "      <td>NaN</td>\n",
              "      <td>(not set)</td>\n",
              "      <td>google</td>\n",
              "      <td>organic</td>\n",
              "      <td>(not provided)</td>\n",
              "      <td>NaN</td>\n",
              "      <td>NaN</td>\n",
              "    </tr>\n",
              "    <tr>\n",
              "      <th>2</th>\n",
              "      <td>Organic Search</td>\n",
              "      <td>2016-09-02</td>\n",
              "      <td>9876750586615598787</td>\n",
              "      <td>9876750586615598787_1472801099</td>\n",
              "      <td>Not Socially Engaged</td>\n",
              "      <td>1472801099</td>\n",
              "      <td>1</td>\n",
              "      <td>1472801099</td>\n",
              "      <td>Chrome</td>\n",
              "      <td>Windows</td>\n",
              "      <td>False</td>\n",
              "      <td>desktop</td>\n",
              "      <td>Europe</td>\n",
              "      <td>Western Europe</td>\n",
              "      <td>Netherlands</td>\n",
              "      <td>not available in demo dataset</td>\n",
              "      <td>not available in demo dataset</td>\n",
              "      <td>not available in demo dataset</td>\n",
              "      <td>igmholding.nl</td>\n",
              "      <td>1</td>\n",
              "      <td>1</td>\n",
              "      <td>1.0</td>\n",
              "      <td>1.0</td>\n",
              "      <td>1.0</td>\n",
              "      <td>NaN</td>\n",
              "      <td>(not set)</td>\n",
              "      <td>google</td>\n",
              "      <td>organic</td>\n",
              "      <td>(not provided)</td>\n",
              "      <td>NaN</td>\n",
              "      <td>NaN</td>\n",
              "    </tr>\n",
              "    <tr>\n",
              "      <th>3</th>\n",
              "      <td>Organic Search</td>\n",
              "      <td>2016-09-02</td>\n",
              "      <td>3982295596181714479</td>\n",
              "      <td>3982295596181714479_1472825889</td>\n",
              "      <td>Not Socially Engaged</td>\n",
              "      <td>1472825889</td>\n",
              "      <td>1</td>\n",
              "      <td>1472825889</td>\n",
              "      <td>Chrome</td>\n",
              "      <td>Macintosh</td>\n",
              "      <td>False</td>\n",
              "      <td>desktop</td>\n",
              "      <td>Asia</td>\n",
              "      <td>Eastern Asia</td>\n",
              "      <td>Taiwan</td>\n",
              "      <td>not available in demo dataset</td>\n",
              "      <td>not available in demo dataset</td>\n",
              "      <td>not available in demo dataset</td>\n",
              "      <td>hinet.net</td>\n",
              "      <td>1</td>\n",
              "      <td>1</td>\n",
              "      <td>1.0</td>\n",
              "      <td>1.0</td>\n",
              "      <td>1.0</td>\n",
              "      <td>NaN</td>\n",
              "      <td>(not set)</td>\n",
              "      <td>google</td>\n",
              "      <td>organic</td>\n",
              "      <td>(not provided)</td>\n",
              "      <td>NaN</td>\n",
              "      <td>NaN</td>\n",
              "    </tr>\n",
              "    <tr>\n",
              "      <th>4</th>\n",
              "      <td>Organic Search</td>\n",
              "      <td>2016-09-02</td>\n",
              "      <td>715569826025005549</td>\n",
              "      <td>0715569826025005549_1472864193</td>\n",
              "      <td>Not Socially Engaged</td>\n",
              "      <td>1472864193</td>\n",
              "      <td>1</td>\n",
              "      <td>1472864193</td>\n",
              "      <td>Chrome</td>\n",
              "      <td>Windows</td>\n",
              "      <td>False</td>\n",
              "      <td>desktop</td>\n",
              "      <td>Americas</td>\n",
              "      <td>South America</td>\n",
              "      <td>Chile</td>\n",
              "      <td>Santiago Metropolitan Region</td>\n",
              "      <td>(not set)</td>\n",
              "      <td>Santiago</td>\n",
              "      <td>movistar.cl</td>\n",
              "      <td>1</td>\n",
              "      <td>1</td>\n",
              "      <td>1.0</td>\n",
              "      <td>1.0</td>\n",
              "      <td>1.0</td>\n",
              "      <td>NaN</td>\n",
              "      <td>(not set)</td>\n",
              "      <td>google</td>\n",
              "      <td>organic</td>\n",
              "      <td>(not provided)</td>\n",
              "      <td>NaN</td>\n",
              "      <td>NaN</td>\n",
              "    </tr>\n",
              "  </tbody>\n",
              "</table>\n",
              "</div>\n",
              "      <button class=\"colab-df-convert\" onclick=\"convertToInteractive('df-ad95b74c-fb34-45f0-87c5-fadf14f2d23f')\"\n",
              "              title=\"Convert this dataframe to an interactive table.\"\n",
              "              style=\"display:none;\">\n",
              "        \n",
              "  <svg xmlns=\"http://www.w3.org/2000/svg\" height=\"24px\"viewBox=\"0 0 24 24\"\n",
              "       width=\"24px\">\n",
              "    <path d=\"M0 0h24v24H0V0z\" fill=\"none\"/>\n",
              "    <path d=\"M18.56 5.44l.94 2.06.94-2.06 2.06-.94-2.06-.94-.94-2.06-.94 2.06-2.06.94zm-11 1L8.5 8.5l.94-2.06 2.06-.94-2.06-.94L8.5 2.5l-.94 2.06-2.06.94zm10 10l.94 2.06.94-2.06 2.06-.94-2.06-.94-.94-2.06-.94 2.06-2.06.94z\"/><path d=\"M17.41 7.96l-1.37-1.37c-.4-.4-.92-.59-1.43-.59-.52 0-1.04.2-1.43.59L10.3 9.45l-7.72 7.72c-.78.78-.78 2.05 0 2.83L4 21.41c.39.39.9.59 1.41.59.51 0 1.02-.2 1.41-.59l7.78-7.78 2.81-2.81c.8-.78.8-2.07 0-2.86zM5.41 20L4 18.59l7.72-7.72 1.47 1.35L5.41 20z\"/>\n",
              "  </svg>\n",
              "      </button>\n",
              "      \n",
              "  <style>\n",
              "    .colab-df-container {\n",
              "      display:flex;\n",
              "      flex-wrap:wrap;\n",
              "      gap: 12px;\n",
              "    }\n",
              "\n",
              "    .colab-df-convert {\n",
              "      background-color: #E8F0FE;\n",
              "      border: none;\n",
              "      border-radius: 50%;\n",
              "      cursor: pointer;\n",
              "      display: none;\n",
              "      fill: #1967D2;\n",
              "      height: 32px;\n",
              "      padding: 0 0 0 0;\n",
              "      width: 32px;\n",
              "    }\n",
              "\n",
              "    .colab-df-convert:hover {\n",
              "      background-color: #E2EBFA;\n",
              "      box-shadow: 0px 1px 2px rgba(60, 64, 67, 0.3), 0px 1px 3px 1px rgba(60, 64, 67, 0.15);\n",
              "      fill: #174EA6;\n",
              "    }\n",
              "\n",
              "    [theme=dark] .colab-df-convert {\n",
              "      background-color: #3B4455;\n",
              "      fill: #D2E3FC;\n",
              "    }\n",
              "\n",
              "    [theme=dark] .colab-df-convert:hover {\n",
              "      background-color: #434B5C;\n",
              "      box-shadow: 0px 1px 3px 1px rgba(0, 0, 0, 0.15);\n",
              "      filter: drop-shadow(0px 1px 2px rgba(0, 0, 0, 0.3));\n",
              "      fill: #FFFFFF;\n",
              "    }\n",
              "  </style>\n",
              "\n",
              "      <script>\n",
              "        const buttonEl =\n",
              "          document.querySelector('#df-ad95b74c-fb34-45f0-87c5-fadf14f2d23f button.colab-df-convert');\n",
              "        buttonEl.style.display =\n",
              "          google.colab.kernel.accessAllowed ? 'block' : 'none';\n",
              "\n",
              "        async function convertToInteractive(key) {\n",
              "          const element = document.querySelector('#df-ad95b74c-fb34-45f0-87c5-fadf14f2d23f');\n",
              "          const dataTable =\n",
              "            await google.colab.kernel.invokeFunction('convertToInteractive',\n",
              "                                                     [key], {});\n",
              "          if (!dataTable) return;\n",
              "\n",
              "          const docLinkHtml = 'Like what you see? Visit the ' +\n",
              "            '<a target=\"_blank\" href=https://colab.research.google.com/notebooks/data_table.ipynb>data table notebook</a>'\n",
              "            + ' to learn more about interactive tables.';\n",
              "          element.innerHTML = '';\n",
              "          dataTable['output_type'] = 'display_data';\n",
              "          await google.colab.output.renderOutput(dataTable, element);\n",
              "          const docLink = document.createElement('div');\n",
              "          docLink.innerHTML = docLinkHtml;\n",
              "          element.appendChild(docLink);\n",
              "        }\n",
              "      </script>\n",
              "    </div>\n",
              "  </div>\n",
              "  "
            ]
          },
          "metadata": {},
          "execution_count": 52
        }
      ]
    },
    {
      "cell_type": "code",
      "source": [
        "df.columns"
      ],
      "metadata": {
        "colab": {
          "base_uri": "https://localhost:8080/"
        },
        "id": "01m4HBdLomgi",
        "outputId": "f45db785-5709-47ef-b1ec-d3c98a4249e6"
      },
      "execution_count": 53,
      "outputs": [
        {
          "output_type": "execute_result",
          "data": {
            "text/plain": [
              "Index(['channelGrouping', 'date', 'fullVisitorId', 'sessionId',\n",
              "       'socialEngagementType', 'visitId', 'visitNumber', 'visitStartTime',\n",
              "       'device.browser', 'device.operatingSystem', 'device.isMobile',\n",
              "       'device.deviceCategory', 'geoNetwork.continent',\n",
              "       'geoNetwork.subContinent', 'geoNetwork.country', 'geoNetwork.region',\n",
              "       'geoNetwork.metro', 'geoNetwork.city', 'geoNetwork.networkDomain',\n",
              "       'totals.visits', 'totals.hits', 'totals.pageviews', 'totals.bounces',\n",
              "       'totals.newVisits', 'totals.transactionRevenue',\n",
              "       'trafficSource.campaign', 'trafficSource.source',\n",
              "       'trafficSource.medium', 'trafficSource.keyword',\n",
              "       'trafficSource.isTrueDirect', 'trafficSource.referralPath'],\n",
              "      dtype='object')"
            ]
          },
          "metadata": {},
          "execution_count": 53
        }
      ]
    },
    {
      "cell_type": "code",
      "source": [
        "df['totals.transactionRevenue'].plot(figsize=(12,4))"
      ],
      "metadata": {
        "colab": {
          "base_uri": "https://localhost:8080/",
          "height": 293
        },
        "id": "5GoEgtNgqGAU",
        "outputId": "32d757dd-8fd5-4473-a84d-d6f93c16d45a"
      },
      "execution_count": 54,
      "outputs": [
        {
          "output_type": "execute_result",
          "data": {
            "text/plain": [
              "<matplotlib.axes._subplots.AxesSubplot at 0x7f6863c273d0>"
            ]
          },
          "metadata": {},
          "execution_count": 54
        },
        {
          "output_type": "display_data",
          "data": {
            "text/plain": [
              "<Figure size 864x288 with 1 Axes>"
            ],
            "image/png": "[encoded data removed]"
          },
          "metadata": {
            "needs_background": "light"
          }
        }
      ]
    },
    {
      "cell_type": "code",
      "source": [
        "import seaborn as sns\n",
        "\n",
        "sns.relplot(x='date', y='totals.transactionRevenue', data=df,kind='line',height=8, aspect=2.2)"
      ],
      "metadata": {
        "colab": {
          "base_uri": "https://localhost:8080/",
          "height": 602
        },
        "id": "23j7RONSu7n_",
        "outputId": "6fd49197-5fed-41cc-ab05-f0b6701dd867"
      },
      "execution_count": 12,
      "outputs": [
        {
          "output_type": "execute_result",
          "data": {
            "text/plain": [
              "<seaborn.axisgrid.FacetGrid at 0x7f68677485d0>"
            ]
          },
          "metadata": {},
          "execution_count": 12
        },
        {
          "output_type": "display_data",
          "data": {
            "text/plain": [
              "<Figure size 1267.2x576 with 1 Axes>"
            ],
            "image/png": "[encoded data removed]"
          },
          "metadata": {
            "needs_background": "light"
          }
        }
      ]
    },
    {
      "cell_type": "code",
      "source": [
        "import matplotlib.pyplot as plt # visualization\n",
        "\n",
        "data = df.groupby(\"fullVisitorId\")[\"totals.transactionRevenue\"].sum().reset_index()\n",
        "f, ax = plt.subplots(figsize=(12, 6))\n",
        "fig =sns.scatterplot(x='fullVisitorId', y='totals.transactionRevenue',size=4,alpha=.8,color='red', data=data)"
      ],
      "metadata": {
        "colab": {
          "base_uri": "https://localhost:8080/",
          "height": 399
        },
        "id": "UIBs9xveB9vf",
        "outputId": "27ded3b2-821f-434e-ab4c-8d03e4ca3f1e"
      },
      "execution_count": 13,
      "outputs": [
        {
          "output_type": "display_data",
          "data": {
            "text/plain": [
              "<Figure size 864x432 with 1 Axes>"
            ],
            "image/png": "[encoded data removed]"
          },
          "metadata": {
            "needs_background": "light"
          }
        }
      ]
    },
    {
      "cell_type": "code",
      "source": [
        "zero_revenue_users = (data[\"totals.transactionRevenue\"]==0).sum()\n",
        "print(\"Number of unique customers with non-zero revenue : \", len(data)-zero_revenue_users, \"and the ratio is : \", zero_revenue_users / len(data))"
      ],
      "metadata": {
        "colab": {
          "base_uri": "https://localhost:8080/"
        },
        "id": "YfztxmvoJiI0",
        "outputId": "e3259a84-09a2-44cd-e5d3-3a5a5d03dffc"
      },
      "execution_count": 14,
      "outputs": [
        {
          "output_type": "stream",
          "name": "stdout",
          "text": [
            "Number of unique customers with non-zero revenue :  1559 and the ratio is :  0.9528903393466897\n"
          ]
        }
      ]
    },
    {
      "cell_type": "code",
      "source": [
        "data = df.groupby(\"fullVisitorId\")[\"totals.transactionRevenue\"].sum().reset_index()\n",
        "f, ax = plt.subplots(figsize=(15, 6))\n",
        "sns.lineplot(x='fullVisitorId', y='totals.transactionRevenue', data=data)"
      ],
      "metadata": {
        "colab": {
          "base_uri": "https://localhost:8080/",
          "height": 416
        },
        "id": "J9q42nV_FG7D",
        "outputId": "2090530e-b017-4395-e9d6-aed09a523830"
      },
      "execution_count": 18,
      "outputs": [
        {
          "output_type": "execute_result",
          "data": {
            "text/plain": [
              "<matplotlib.axes._subplots.AxesSubplot at 0x7f68659d2c90>"
            ]
          },
          "metadata": {},
          "execution_count": 18
        },
        {
          "output_type": "display_data",
          "data": {
            "text/plain": [
              "<Figure size 1080x432 with 1 Axes>"
            ],
            "image/png": "[encoded data removed]"
          },
          "metadata": {
            "needs_background": "light"
          }
        }
      ]
    },
    {
      "cell_type": "code",
      "source": [
        "top_50_customers = data.sort_values(['totals.transactionRevenue'],ascending=False).head(50)\n",
        "top_50_customers['totals.transactionRevenue'].plot.bar(figsize=(15,6))"
      ],
      "metadata": {
        "colab": {
          "base_uri": "https://localhost:8080/",
          "height": 424
        },
        "id": "5qvW3FDDPRG2",
        "outputId": "6dae2c58-e900-442b-a863-e974d1e79d32"
      },
      "execution_count": 19,
      "outputs": [
        {
          "output_type": "execute_result",
          "data": {
            "text/plain": [
              "<matplotlib.axes._subplots.AxesSubplot at 0x7f686584b510>"
            ]
          },
          "metadata": {},
          "execution_count": 19
        },
        {
          "output_type": "display_data",
          "data": {
            "text/plain": [
              "<Figure size 1080x432 with 1 Axes>"
            ],
            "image/png": "[encoded data removed]"
          },
          "metadata": {
            "needs_background": "light"
          }
        }
      ]
    },
    {
      "cell_type": "code",
      "source": [
        "top_50_data = df[df.fullVisitorId.isin(top_50_customers.fullVisitorId)]\n",
        "top_50_countries = top_50_data['geoNetwork.country'].value_counts()\n",
        "top_50_countries.plot.bar(figsize=(12,6))"
      ],
      "metadata": {
        "colab": {
          "base_uri": "https://localhost:8080/",
          "height": 449
        },
        "id": "chL-fZuSRFU3",
        "outputId": "60c61676-242b-4869-d85e-790b2022ae78"
      },
      "execution_count": 20,
      "outputs": [
        {
          "output_type": "execute_result",
          "data": {
            "text/plain": [
              "<matplotlib.axes._subplots.AxesSubplot at 0x7f6865879090>"
            ]
          },
          "metadata": {},
          "execution_count": 20
        },
        {
          "output_type": "display_data",
          "data": {
            "text/plain": [
              "<Figure size 864x432 with 1 Axes>"
            ],
            "image/png": "[encoded data removed]"
          },
          "metadata": {
            "needs_background": "light"
          }
        }
      ]
    },
    {
      "cell_type": "code",
      "source": [
        "top_50_countries"
      ],
      "metadata": {
        "colab": {
          "base_uri": "https://localhost:8080/"
        },
        "id": "pRDbvNFcSCSt",
        "outputId": "46570ce3-080f-444b-b358-b037db7840db"
      },
      "execution_count": 21,
      "outputs": [
        {
          "output_type": "execute_result",
          "data": {
            "text/plain": [
              "United States    235\n",
              "Japan              2\n",
              "Name: geoNetwork.country, dtype: int64"
            ]
          },
          "metadata": {},
          "execution_count": 21
        }
      ]
    },
    {
      "cell_type": "code",
      "source": [
        "global_countries = df['geoNetwork.country'].value_counts().head(20)\n",
        "global_countries.plot.bar(figsize=(14,6))"
      ],
      "metadata": {
        "colab": {
          "base_uri": "https://localhost:8080/",
          "height": 461
        },
        "id": "EfaPsCEhSnVU",
        "outputId": "bd0972e2-d046-4a61-d635-072501cb1dd9"
      },
      "execution_count": 22,
      "outputs": [
        {
          "output_type": "execute_result",
          "data": {
            "text/plain": [
              "<matplotlib.axes._subplots.AxesSubplot at 0x7f68657c0890>"
            ]
          },
          "metadata": {},
          "execution_count": 22
        },
        {
          "output_type": "display_data",
          "data": {
            "text/plain": [
              "<Figure size 1008x432 with 1 Axes>"
            ],
            "image/png": "[encoded data removed]"
          },
          "metadata": {
            "needs_background": "light"
          }
        }
      ]
    },
    {
      "cell_type": "code",
      "source": [
        "global_countries"
      ],
      "metadata": {
        "colab": {
          "base_uri": "https://localhost:8080/"
        },
        "id": "6C5GwMv3TLp4",
        "outputId": "cd0f80ea-bc60-4ee0-e6e5-76a817210ae3"
      },
      "execution_count": 23,
      "outputs": [
        {
          "output_type": "execute_result",
          "data": {
            "text/plain": [
              "United States     31339\n",
              "Canada             1874\n",
              "United Kingdom     1696\n",
              "India              1684\n",
              "Japan              1061\n",
              "France              962\n",
              "Taiwan              909\n",
              "Germany             850\n",
              "Spain               723\n",
              "Netherlands         657\n",
              "Italy               609\n",
              "Singapore           590\n",
              "Brazil              589\n",
              "Australia           536\n",
              "Poland              474\n",
              "Mexico              469\n",
              "Thailand            466\n",
              "Vietnam             458\n",
              "Turkey              413\n",
              "Malaysia            376\n",
              "Name: geoNetwork.country, dtype: int64"
            ]
          },
          "metadata": {},
          "execution_count": 23
        }
      ]
    },
    {
      "cell_type": "code",
      "source": [
        "import numpy as np\n",
        "\n",
        "df['totals.transactionRevenue'] = np.log(df['totals.transactionRevenue'])\n",
        "df['totals.transactionRevenue'].plot(figsize=(12,4))"
      ],
      "metadata": {
        "colab": {
          "base_uri": "https://localhost:8080/",
          "height": 282
        },
        "id": "01dxfzWuqz0s",
        "outputId": "36ff3036-9d05-4ecf-af5c-e710d6f267a7"
      },
      "execution_count": 24,
      "outputs": [
        {
          "output_type": "execute_result",
          "data": {
            "text/plain": [
              "<matplotlib.axes._subplots.AxesSubplot at 0x7f6865758310>"
            ]
          },
          "metadata": {},
          "execution_count": 24
        },
        {
          "output_type": "display_data",
          "data": {
            "text/plain": [
              "<Figure size 864x288 with 1 Axes>"
            ],
            "image/png": "[encoded data removed]"
          },
          "metadata": {
            "needs_background": "light"
          }
        }
      ]
    },
    {
      "cell_type": "code",
      "source": [
        "sns.relplot(x='date', y='totals.transactionRevenue', data=df,kind='line',height=8, aspect=2.2)"
      ],
      "metadata": {
        "colab": {
          "base_uri": "https://localhost:8080/",
          "height": 602
        },
        "id": "aQNP9ig6vj8c",
        "outputId": "b6b52cac-c2aa-48c0-a3de-1ca385f1fa66"
      },
      "execution_count": 25,
      "outputs": [
        {
          "output_type": "execute_result",
          "data": {
            "text/plain": [
              "<seaborn.axisgrid.FacetGrid at 0x7f68656c8c10>"
            ]
          },
          "metadata": {},
          "execution_count": 25
        },
        {
          "output_type": "display_data",
          "data": {
            "text/plain": [
              "<Figure size 1267.2x576 with 1 Axes>"
            ],
            "image/png": "[encoded data removed]"
          },
          "metadata": {
            "needs_background": "light"
          }
        }
      ]
    },
    {
      "cell_type": "code",
      "source": [
        "# * The 80/20 rule has proven true for many businesses–only a small percentage of customers produce most of the revenue. \n",
        "# As such, marketing teams are challenged to make appropriate investments in promotional strategies."
      ],
      "metadata": {
        "id": "uChO7Yb8q8Hb"
      },
      "execution_count": 26,
      "outputs": []
    },
    {
      "cell_type": "code",
      "source": [
        "const_cols = [c for c in df.columns if df[c].nunique(dropna=False)==1 ]\n",
        "const_cols"
      ],
      "metadata": {
        "colab": {
          "base_uri": "https://localhost:8080/"
        },
        "id": "FiZgC9lxrGi4",
        "outputId": "fc652fba-f0fb-4c61-8969-336f349d15cc"
      },
      "execution_count": 27,
      "outputs": [
        {
          "output_type": "execute_result",
          "data": {
            "text/plain": [
              "[]"
            ]
          },
          "metadata": {},
          "execution_count": 27
        }
      ]
    },
    {
      "cell_type": "code",
      "source": [
        "df = df.drop(const_cols, axis=1)"
      ],
      "metadata": {
        "id": "f9T6Nhkir2-F"
      },
      "execution_count": 28,
      "outputs": []
    },
    {
      "cell_type": "code",
      "source": [
        "drop_cols = ['sessionId','visitId','visitStartTime','geoNetwork.continent','geoNetwork.subContinent',\n",
        "             'geoNetwork.region','geoNetwork.metro','geoNetwork.city','geoNetwork.networkDomain']\n",
        "df = df.drop(drop_cols, axis=1)"
      ],
      "metadata": {
        "id": "V1LxJO2kr-m1"
      },
      "execution_count": 29,
      "outputs": []
    },
    {
      "cell_type": "code",
      "source": [
        "df.columns"
      ],
      "metadata": {
        "colab": {
          "base_uri": "https://localhost:8080/"
        },
        "id": "3xYJCE-osaO6",
        "outputId": "f6982ac7-90fc-4877-ae33-991f99f11244"
      },
      "execution_count": 30,
      "outputs": [
        {
          "output_type": "execute_result",
          "data": {
            "text/plain": [
              "Index(['channelGrouping', 'date', 'fullVisitorId', 'socialEngagementType',\n",
              "       'visitNumber', 'device.browser', 'device.operatingSystem',\n",
              "       'device.isMobile', 'device.deviceCategory', 'geoNetwork.country',\n",
              "       'totals.visits', 'totals.hits', 'totals.pageviews', 'totals.bounces',\n",
              "       'totals.newVisits', 'totals.transactionRevenue',\n",
              "       'trafficSource.campaign', 'trafficSource.source',\n",
              "       'trafficSource.medium', 'trafficSource.keyword',\n",
              "       'trafficSource.isTrueDirect', 'trafficSource.referralPath'],\n",
              "      dtype='object')"
            ]
          },
          "metadata": {},
          "execution_count": 30
        }
      ]
    },
    {
      "cell_type": "code",
      "source": [
        "df['trafficSource.campaign'].value_counts().plot.bar(figsize=(12,6),rot=30)"
      ],
      "metadata": {
        "colab": {
          "base_uri": "https://localhost:8080/",
          "height": 516
        },
        "id": "-yrWzQOauLfy",
        "outputId": "58c6c410-8bbe-40de-af0c-f2a086f9d021"
      },
      "execution_count": 31,
      "outputs": [
        {
          "output_type": "execute_result",
          "data": {
            "text/plain": [
              "<matplotlib.axes._subplots.AxesSubplot at 0x7f6867789ed0>"
            ]
          },
          "metadata": {},
          "execution_count": 31
        },
        {
          "output_type": "display_data",
          "data": {
            "text/plain": [
              "<Figure size 864x432 with 1 Axes>"
            ],
            "image/png": "[encoded data removed]"
          },
          "metadata": {
            "needs_background": "light"
          }
        }
      ]
    },
    {
      "cell_type": "code",
      "source": [
        "df.head()"
      ],
      "metadata": {
        "colab": {
          "base_uri": "https://localhost:8080/",
          "height": 357
        },
        "id": "2QXtobF3sdxH",
        "outputId": "6b9546f8-fc4a-421e-c7c3-a5e68fb383c1"
      },
      "execution_count": 32,
      "outputs": [
        {
          "output_type": "execute_result",
          "data": {
            "text/plain": [
              "  channelGrouping       date        fullVisitorId  socialEngagementType  \\\n",
              "0  Organic Search 2016-09-02    27294437909732085  Not Socially Engaged   \n",
              "1  Organic Search 2016-09-02   982320996976275749  Not Socially Engaged   \n",
              "2  Organic Search 2016-09-02  9876750586615598787  Not Socially Engaged   \n",
              "3  Organic Search 2016-09-02  3982295596181714479  Not Socially Engaged   \n",
              "4  Organic Search 2016-09-02   715569826025005549  Not Socially Engaged   \n",
              "\n",
              "   visitNumber device.browser device.operatingSystem device.isMobile  \\\n",
              "0          2.0         Chrome                Android            True   \n",
              "1          1.0         Safari              Macintosh           False   \n",
              "2          1.0         Chrome                Windows           False   \n",
              "3          1.0         Chrome              Macintosh           False   \n",
              "4          1.0         Chrome                Windows           False   \n",
              "\n",
              "  device.deviceCategory geoNetwork.country  totals.visits  totals.hits  \\\n",
              "0                mobile     United Kingdom            1.0          1.0   \n",
              "1               desktop             France            1.0          1.0   \n",
              "2               desktop        Netherlands            1.0          1.0   \n",
              "3               desktop             Taiwan            1.0          1.0   \n",
              "4               desktop              Chile            1.0          1.0   \n",
              "\n",
              "   totals.pageviews  totals.bounces  totals.newVisits  \\\n",
              "0               1.0             1.0               NaN   \n",
              "1               1.0             1.0               1.0   \n",
              "2               1.0             1.0               1.0   \n",
              "3               1.0             1.0               1.0   \n",
              "4               1.0             1.0               1.0   \n",
              "\n",
              "   totals.transactionRevenue trafficSource.campaign trafficSource.source  \\\n",
              "0                        NaN              (not set)               google   \n",
              "1                        NaN              (not set)               google   \n",
              "2                        NaN              (not set)               google   \n",
              "3                        NaN              (not set)               google   \n",
              "4                        NaN              (not set)               google   \n",
              "\n",
              "  trafficSource.medium trafficSource.keyword trafficSource.isTrueDirect  \\\n",
              "0              organic        (not provided)                       True   \n",
              "1              organic        (not provided)                        NaN   \n",
              "2              organic        (not provided)                        NaN   \n",
              "3              organic        (not provided)                        NaN   \n",
              "4              organic        (not provided)                        NaN   \n",
              "\n",
              "  trafficSource.referralPath  \n",
              "0                        NaN  \n",
              "1                        NaN  \n",
              "2                        NaN  \n",
              "3                        NaN  \n",
              "4                        NaN  "
            ],
            "text/html": [
              "\n",
              "  <div id=\"df-3113d405-f81c-4d56-9087-9f7db61773e2\">\n",
              "    <div class=\"colab-df-container\">\n",
              "      <div>\n",
              "<style scoped>\n",
              "    .dataframe tbody tr th:only-of-type {\n",
              "        vertical-align: middle;\n",
              "    }\n",
              "\n",
              "    .dataframe tbody tr th {\n",
              "        vertical-align: top;\n",
              "    }\n",
              "\n",
              "    .dataframe thead th {\n",
              "        text-align: right;\n",
              "    }\n",
              "</style>\n",
              "<table border=\"1\" class=\"dataframe\">\n",
              "  <thead>\n",
              "    <tr style=\"text-align: right;\">\n",
              "      <th></th>\n",
              "      <th>channelGrouping</th>\n",
              "      <th>date</th>\n",
              "      <th>fullVisitorId</th>\n",
              "      <th>socialEngagementType</th>\n",
              "      <th>visitNumber</th>\n",
              "      <th>device.browser</th>\n",
              "      <th>device.operatingSystem</th>\n",
              "      <th>device.isMobile</th>\n",
              "      <th>device.deviceCategory</th>\n",
              "      <th>geoNetwork.country</th>\n",
              "      <th>totals.visits</th>\n",
              "      <th>totals.hits</th>\n",
              "      <th>totals.pageviews</th>\n",
              "      <th>totals.bounces</th>\n",
              "      <th>totals.newVisits</th>\n",
              "      <th>totals.transactionRevenue</th>\n",
              "      <th>trafficSource.campaign</th>\n",
              "      <th>trafficSource.source</th>\n",
              "      <th>trafficSource.medium</th>\n",
              "      <th>trafficSource.keyword</th>\n",
              "      <th>trafficSource.isTrueDirect</th>\n",
              "      <th>trafficSource.referralPath</th>\n",
              "    </tr>\n",
              "  </thead>\n",
              "  <tbody>\n",
              "    <tr>\n",
              "      <th>0</th>\n",
              "      <td>Organic Search</td>\n",
              "      <td>2016-09-02</td>\n",
              "      <td>27294437909732085</td>\n",
              "      <td>Not Socially Engaged</td>\n",
              "      <td>2.0</td>\n",
              "      <td>Chrome</td>\n",
              "      <td>Android</td>\n",
              "      <td>True</td>\n",
              "      <td>mobile</td>\n",
              "      <td>United Kingdom</td>\n",
              "      <td>1.0</td>\n",
              "      <td>1.0</td>\n",
              "      <td>1.0</td>\n",
              "      <td>1.0</td>\n",
              "      <td>NaN</td>\n",
              "      <td>NaN</td>\n",
              "      <td>(not set)</td>\n",
              "      <td>google</td>\n",
              "      <td>organic</td>\n",
              "      <td>(not provided)</td>\n",
              "      <td>True</td>\n",
              "      <td>NaN</td>\n",
              "    </tr>\n",
              "    <tr>\n",
              "      <th>1</th>\n",
              "      <td>Organic Search</td>\n",
              "      <td>2016-09-02</td>\n",
              "      <td>982320996976275749</td>\n",
              "      <td>Not Socially Engaged</td>\n",
              "      <td>1.0</td>\n",
              "      <td>Safari</td>\n",
              "      <td>Macintosh</td>\n",
              "      <td>False</td>\n",
              "      <td>desktop</td>\n",
              "      <td>France</td>\n",
              "      <td>1.0</td>\n",
              "      <td>1.0</td>\n",
              "      <td>1.0</td>\n",
              "      <td>1.0</td>\n",
              "      <td>1.0</td>\n",
              "      <td>NaN</td>\n",
              "      <td>(not set)</td>\n",
              "      <td>google</td>\n",
              "      <td>organic</td>\n",
              "      <td>(not provided)</td>\n",
              "      <td>NaN</td>\n",
              "      <td>NaN</td>\n",
              "    </tr>\n",
              "    <tr>\n",
              "      <th>2</th>\n",
              "      <td>Organic Search</td>\n",
              "      <td>2016-09-02</td>\n",
              "      <td>9876750586615598787</td>\n",
              "      <td>Not Socially Engaged</td>\n",
              "      <td>1.0</td>\n",
              "      <td>Chrome</td>\n",
              "      <td>Windows</td>\n",
              "      <td>False</td>\n",
              "      <td>desktop</td>\n",
              "      <td>Netherlands</td>\n",
              "      <td>1.0</td>\n",
              "      <td>1.0</td>\n",
              "      <td>1.0</td>\n",
              "      <td>1.0</td>\n",
              "      <td>1.0</td>\n",
              "      <td>NaN</td>\n",
              "      <td>(not set)</td>\n",
              "      <td>google</td>\n",
              "      <td>organic</td>\n",
              "      <td>(not provided)</td>\n",
              "      <td>NaN</td>\n",
              "      <td>NaN</td>\n",
              "    </tr>\n",
              "    <tr>\n",
              "      <th>3</th>\n",
              "      <td>Organic Search</td>\n",
              "      <td>2016-09-02</td>\n",
              "      <td>3982295596181714479</td>\n",
              "      <td>Not Socially Engaged</td>\n",
              "      <td>1.0</td>\n",
              "      <td>Chrome</td>\n",
              "      <td>Macintosh</td>\n",
              "      <td>False</td>\n",
              "      <td>desktop</td>\n",
              "      <td>Taiwan</td>\n",
              "      <td>1.0</td>\n",
              "      <td>1.0</td>\n",
              "      <td>1.0</td>\n",
              "      <td>1.0</td>\n",
              "      <td>1.0</td>\n",
              "      <td>NaN</td>\n",
              "      <td>(not set)</td>\n",
              "      <td>google</td>\n",
              "      <td>organic</td>\n",
              "      <td>(not provided)</td>\n",
              "      <td>NaN</td>\n",
              "      <td>NaN</td>\n",
              "    </tr>\n",
              "    <tr>\n",
              "      <th>4</th>\n",
              "      <td>Organic Search</td>\n",
              "      <td>2016-09-02</td>\n",
              "      <td>715569826025005549</td>\n",
              "      <td>Not Socially Engaged</td>\n",
              "      <td>1.0</td>\n",
              "      <td>Chrome</td>\n",
              "      <td>Windows</td>\n",
              "      <td>False</td>\n",
              "      <td>desktop</td>\n",
              "      <td>Chile</td>\n",
              "      <td>1.0</td>\n",
              "      <td>1.0</td>\n",
              "      <td>1.0</td>\n",
              "      <td>1.0</td>\n",
              "      <td>1.0</td>\n",
              "      <td>NaN</td>\n",
              "      <td>(not set)</td>\n",
              "      <td>google</td>\n",
              "      <td>organic</td>\n",
              "      <td>(not provided)</td>\n",
              "      <td>NaN</td>\n",
              "      <td>NaN</td>\n",
              "    </tr>\n",
              "  </tbody>\n",
              "</table>\n",
              "</div>\n",
              "      <button class=\"colab-df-convert\" onclick=\"convertToInteractive('df-3113d405-f81c-4d56-9087-9f7db61773e2')\"\n",
              "              title=\"Convert this dataframe to an interactive table.\"\n",
              "              style=\"display:none;\">\n",
              "        \n",
              "  <svg xmlns=\"http://www.w3.org/2000/svg\" height=\"24px\"viewBox=\"0 0 24 24\"\n",
              "       width=\"24px\">\n",
              "    <path d=\"M0 0h24v24H0V0z\" fill=\"none\"/>\n",
              "    <path d=\"M18.56 5.44l.94 2.06.94-2.06 2.06-.94-2.06-.94-.94-2.06-.94 2.06-2.06.94zm-11 1L8.5 8.5l.94-2.06 2.06-.94-2.06-.94L8.5 2.5l-.94 2.06-2.06.94zm10 10l.94 2.06.94-2.06 2.06-.94-2.06-.94-.94-2.06-.94 2.06-2.06.94z\"/><path d=\"M17.41 7.96l-1.37-1.37c-.4-.4-.92-.59-1.43-.59-.52 0-1.04.2-1.43.59L10.3 9.45l-7.72 7.72c-.78.78-.78 2.05 0 2.83L4 21.41c.39.39.9.59 1.41.59.51 0 1.02-.2 1.41-.59l7.78-7.78 2.81-2.81c.8-.78.8-2.07 0-2.86zM5.41 20L4 18.59l7.72-7.72 1.47 1.35L5.41 20z\"/>\n",
              "  </svg>\n",
              "      </button>\n",
              "      \n",
              "  <style>\n",
              "    .colab-df-container {\n",
              "      display:flex;\n",
              "      flex-wrap:wrap;\n",
              "      gap: 12px;\n",
              "    }\n",
              "\n",
              "    .colab-df-convert {\n",
              "      background-color: #E8F0FE;\n",
              "      border: none;\n",
              "      border-radius: 50%;\n",
              "      cursor: pointer;\n",
              "      display: none;\n",
              "      fill: #1967D2;\n",
              "      height: 32px;\n",
              "      padding: 0 0 0 0;\n",
              "      width: 32px;\n",
              "    }\n",
              "\n",
              "    .colab-df-convert:hover {\n",
              "      background-color: #E2EBFA;\n",
              "      box-shadow: 0px 1px 2px rgba(60, 64, 67, 0.3), 0px 1px 3px 1px rgba(60, 64, 67, 0.15);\n",
              "      fill: #174EA6;\n",
              "    }\n",
              "\n",
              "    [theme=dark] .colab-df-convert {\n",
              "      background-color: #3B4455;\n",
              "      fill: #D2E3FC;\n",
              "    }\n",
              "\n",
              "    [theme=dark] .colab-df-convert:hover {\n",
              "      background-color: #434B5C;\n",
              "      box-shadow: 0px 1px 3px 1px rgba(0, 0, 0, 0.15);\n",
              "      filter: drop-shadow(0px 1px 2px rgba(0, 0, 0, 0.3));\n",
              "      fill: #FFFFFF;\n",
              "    }\n",
              "  </style>\n",
              "\n",
              "      <script>\n",
              "        const buttonEl =\n",
              "          document.querySelector('#df-3113d405-f81c-4d56-9087-9f7db61773e2 button.colab-df-convert');\n",
              "        buttonEl.style.display =\n",
              "          google.colab.kernel.accessAllowed ? 'block' : 'none';\n",
              "\n",
              "        async function convertToInteractive(key) {\n",
              "          const element = document.querySelector('#df-3113d405-f81c-4d56-9087-9f7db61773e2');\n",
              "          const dataTable =\n",
              "            await google.colab.kernel.invokeFunction('convertToInteractive',\n",
              "                                                     [key], {});\n",
              "          if (!dataTable) return;\n",
              "\n",
              "          const docLinkHtml = 'Like what you see? Visit the ' +\n",
              "            '<a target=\"_blank\" href=https://colab.research.google.com/notebooks/data_table.ipynb>data table notebook</a>'\n",
              "            + ' to learn more about interactive tables.';\n",
              "          element.innerHTML = '';\n",
              "          dataTable['output_type'] = 'display_data';\n",
              "          await google.colab.output.renderOutput(dataTable, element);\n",
              "          const docLink = document.createElement('div');\n",
              "          docLink.innerHTML = docLinkHtml;\n",
              "          element.appendChild(docLink);\n",
              "        }\n",
              "      </script>\n",
              "    </div>\n",
              "  </div>\n",
              "  "
            ]
          },
          "metadata": {},
          "execution_count": 32
        }
      ]
    },
    {
      "cell_type": "code",
      "source": [
        "df.columns"
      ],
      "metadata": {
        "colab": {
          "base_uri": "https://localhost:8080/"
        },
        "id": "iPJ1atZ-9a2U",
        "outputId": "00d4822d-d25f-45bd-e613-330f98a5c1e6"
      },
      "execution_count": 33,
      "outputs": [
        {
          "output_type": "execute_result",
          "data": {
            "text/plain": [
              "Index(['channelGrouping', 'date', 'fullVisitorId', 'socialEngagementType',\n",
              "       'visitNumber', 'device.browser', 'device.operatingSystem',\n",
              "       'device.isMobile', 'device.deviceCategory', 'geoNetwork.country',\n",
              "       'totals.visits', 'totals.hits', 'totals.pageviews', 'totals.bounces',\n",
              "       'totals.newVisits', 'totals.transactionRevenue',\n",
              "       'trafficSource.campaign', 'trafficSource.source',\n",
              "       'trafficSource.medium', 'trafficSource.keyword',\n",
              "       'trafficSource.isTrueDirect', 'trafficSource.referralPath'],\n",
              "      dtype='object')"
            ]
          },
          "metadata": {},
          "execution_count": 33
        }
      ]
    },
    {
      "cell_type": "code",
      "source": [
        "\"\"\"\n",
        "1) Slice the data in chunks of 3 months\n",
        "2) Sum the revenue for each customer in the last 3 months\n",
        "3) Generate columns like days since last buy, avg nr days between buys,\n",
        "\"\"\""
      ],
      "metadata": {
        "id": "30WfZfr6Cw6L",
        "colab": {
          "base_uri": "https://localhost:8080/",
          "height": 35
        },
        "outputId": "f3371ed2-310e-4d19-b5c7-62680791cec6"
      },
      "execution_count": 34,
      "outputs": [
        {
          "output_type": "execute_result",
          "data": {
            "text/plain": [
              "'\\n1) Slice the data in chunks of 3 months\\n2) Sum the revenue for each customer in the last 3 months\\n3) Generate columns like days since last buy, avg nr days between buys,\\n'"
            ],
            "application/vnd.google.colaboratory.intrinsic+json": {
              "type": "string"
            }
          },
          "metadata": {},
          "execution_count": 34
        }
      ]
    },
    {
      "cell_type": "code",
      "source": [
        "def groupby_mean(x):\n",
        "    return x.mean()\n",
        "\n",
        "def groupby_count(x):\n",
        "    return x.count()\n",
        "\n",
        "def purchase_duration(x):\n",
        "    return (x.max() - x.min()).days\n",
        "\n",
        "def avg_frequency(x):\n",
        "    return (x.max() - x.min()).days/x.count()\n",
        "\n",
        "\n",
        "clv_freq = '3M'\n",
        "\n",
        "groupby_mean.__name__ = 'avg'\n",
        "groupby_count.__name__ = 'count'\n",
        "purchase_duration.__name__ = 'purchase_duration'\n",
        "avg_frequency.__name__ = 'purchase_frequency'"
      ],
      "metadata": {
        "id": "xmhv0oPTC4SJ"
      },
      "execution_count": 35,
      "outputs": []
    },
    {
      "cell_type": "code",
      "source": [
        "summary_df = df.reset_index().groupby('fullVisitorId').agg({\n",
        "    'totals.transactionRevenue': [min, max, sum, groupby_mean, groupby_count],\n",
        "    'date': [min, max, purchase_duration, avg_frequency]\n",
        "})\n",
        "summary_df.columns = ['_'.join(col).lower() for col in summary_df.columns]"
      ],
      "metadata": {
        "id": "FumctqM7DgCf"
      },
      "execution_count": 36,
      "outputs": []
    },
    {
      "cell_type": "code",
      "source": [
        "summary_df.head()"
      ],
      "metadata": {
        "colab": {
          "base_uri": "https://localhost:8080/",
          "height": 388
        },
        "id": "3JuO2lJPD-C3",
        "outputId": "f34d7fe3-f790-40a3-f200-e3ebba954736"
      },
      "execution_count": 37,
      "outputs": [
        {
          "output_type": "execute_result",
          "data": {
            "text/plain": [
              "                 totals.transactionrevenue_min  totals.transactionrevenue_max  \\\n",
              "fullVisitorId                                                                   \n",
              "166465265517759                            NaN                            NaN   \n",
              "170187170673177                            NaN                            NaN   \n",
              "172669099830004                            NaN                            NaN   \n",
              "174067426171406                            NaN                            NaN   \n",
              "435324061339869                            NaN                            NaN   \n",
              "\n",
              "                 totals.transactionrevenue_sum  totals.transactionrevenue_avg  \\\n",
              "fullVisitorId                                                                   \n",
              "166465265517759                            0.0                            NaN   \n",
              "170187170673177                            0.0                            NaN   \n",
              "172669099830004                            0.0                            NaN   \n",
              "174067426171406                            0.0                            NaN   \n",
              "435324061339869                            0.0                            NaN   \n",
              "\n",
              "                 totals.transactionrevenue_count   date_min   date_max  \\\n",
              "fullVisitorId                                                            \n",
              "166465265517759                                0 2016-08-22 2016-08-22   \n",
              "170187170673177                                0 2017-06-30 2017-06-30   \n",
              "172669099830004                                0 2017-06-24 2017-06-24   \n",
              "174067426171406                                0 2016-11-10 2016-11-10   \n",
              "435324061339869                                0 2016-10-30 2016-10-30   \n",
              "\n",
              "                 date_purchase_duration  date_purchase_frequency  \n",
              "fullVisitorId                                                     \n",
              "166465265517759                       0                      0.0  \n",
              "170187170673177                       0                      0.0  \n",
              "172669099830004                       0                      0.0  \n",
              "174067426171406                       0                      0.0  \n",
              "435324061339869                       0                      0.0  "
            ],
            "text/html": [
              "\n",
              "  <div id=\"df-657d3518-9f87-459d-8067-453d00c2a04e\">\n",
              "    <div class=\"colab-df-container\">\n",
              "      <div>\n",
              "<style scoped>\n",
              "    .dataframe tbody tr th:only-of-type {\n",
              "        vertical-align: middle;\n",
              "    }\n",
              "\n",
              "    .dataframe tbody tr th {\n",
              "        vertical-align: top;\n",
              "    }\n",
              "\n",
              "    .dataframe thead th {\n",
              "        text-align: right;\n",
              "    }\n",
              "</style>\n",
              "<table border=\"1\" class=\"dataframe\">\n",
              "  <thead>\n",
              "    <tr style=\"text-align: right;\">\n",
              "      <th></th>\n",
              "      <th>totals.transactionrevenue_min</th>\n",
              "      <th>totals.transactionrevenue_max</th>\n",
              "      <th>totals.transactionrevenue_sum</th>\n",
              "      <th>totals.transactionrevenue_avg</th>\n",
              "      <th>totals.transactionrevenue_count</th>\n",
              "      <th>date_min</th>\n",
              "      <th>date_max</th>\n",
              "      <th>date_purchase_duration</th>\n",
              "      <th>date_purchase_frequency</th>\n",
              "    </tr>\n",
              "    <tr>\n",
              "      <th>fullVisitorId</th>\n",
              "      <th></th>\n",
              "      <th></th>\n",
              "      <th></th>\n",
              "      <th></th>\n",
              "      <th></th>\n",
              "      <th></th>\n",
              "      <th></th>\n",
              "      <th></th>\n",
              "      <th></th>\n",
              "    </tr>\n",
              "  </thead>\n",
              "  <tbody>\n",
              "    <tr>\n",
              "      <th>166465265517759</th>\n",
              "      <td>NaN</td>\n",
              "      <td>NaN</td>\n",
              "      <td>0.0</td>\n",
              "      <td>NaN</td>\n",
              "      <td>0</td>\n",
              "      <td>2016-08-22</td>\n",
              "      <td>2016-08-22</td>\n",
              "      <td>0</td>\n",
              "      <td>0.0</td>\n",
              "    </tr>\n",
              "    <tr>\n",
              "      <th>170187170673177</th>\n",
              "      <td>NaN</td>\n",
              "      <td>NaN</td>\n",
              "      <td>0.0</td>\n",
              "      <td>NaN</td>\n",
              "      <td>0</td>\n",
              "      <td>2017-06-30</td>\n",
              "      <td>2017-06-30</td>\n",
              "      <td>0</td>\n",
              "      <td>0.0</td>\n",
              "    </tr>\n",
              "    <tr>\n",
              "      <th>172669099830004</th>\n",
              "      <td>NaN</td>\n",
              "      <td>NaN</td>\n",
              "      <td>0.0</td>\n",
              "      <td>NaN</td>\n",
              "      <td>0</td>\n",
              "      <td>2017-06-24</td>\n",
              "      <td>2017-06-24</td>\n",
              "      <td>0</td>\n",
              "      <td>0.0</td>\n",
              "    </tr>\n",
              "    <tr>\n",
              "      <th>174067426171406</th>\n",
              "      <td>NaN</td>\n",
              "      <td>NaN</td>\n",
              "      <td>0.0</td>\n",
              "      <td>NaN</td>\n",
              "      <td>0</td>\n",
              "      <td>2016-11-10</td>\n",
              "      <td>2016-11-10</td>\n",
              "      <td>0</td>\n",
              "      <td>0.0</td>\n",
              "    </tr>\n",
              "    <tr>\n",
              "      <th>435324061339869</th>\n",
              "      <td>NaN</td>\n",
              "      <td>NaN</td>\n",
              "      <td>0.0</td>\n",
              "      <td>NaN</td>\n",
              "      <td>0</td>\n",
              "      <td>2016-10-30</td>\n",
              "      <td>2016-10-30</td>\n",
              "      <td>0</td>\n",
              "      <td>0.0</td>\n",
              "    </tr>\n",
              "  </tbody>\n",
              "</table>\n",
              "</div>\n",
              "      <button class=\"colab-df-convert\" onclick=\"convertToInteractive('df-657d3518-9f87-459d-8067-453d00c2a04e')\"\n",
              "              title=\"Convert this dataframe to an interactive table.\"\n",
              "              style=\"display:none;\">\n",
              "        \n",
              "  <svg xmlns=\"http://www.w3.org/2000/svg\" height=\"24px\"viewBox=\"0 0 24 24\"\n",
              "       width=\"24px\">\n",
              "    <path d=\"M0 0h24v24H0V0z\" fill=\"none\"/>\n",
              "    <path d=\"M18.56 5.44l.94 2.06.94-2.06 2.06-.94-2.06-.94-.94-2.06-.94 2.06-2.06.94zm-11 1L8.5 8.5l.94-2.06 2.06-.94-2.06-.94L8.5 2.5l-.94 2.06-2.06.94zm10 10l.94 2.06.94-2.06 2.06-.94-2.06-.94-.94-2.06-.94 2.06-2.06.94z\"/><path d=\"M17.41 7.96l-1.37-1.37c-.4-.4-.92-.59-1.43-.59-.52 0-1.04.2-1.43.59L10.3 9.45l-7.72 7.72c-.78.78-.78 2.05 0 2.83L4 21.41c.39.39.9.59 1.41.59.51 0 1.02-.2 1.41-.59l7.78-7.78 2.81-2.81c.8-.78.8-2.07 0-2.86zM5.41 20L4 18.59l7.72-7.72 1.47 1.35L5.41 20z\"/>\n",
              "  </svg>\n",
              "      </button>\n",
              "      \n",
              "  <style>\n",
              "    .colab-df-container {\n",
              "      display:flex;\n",
              "      flex-wrap:wrap;\n",
              "      gap: 12px;\n",
              "    }\n",
              "\n",
              "    .colab-df-convert {\n",
              "      background-color: #E8F0FE;\n",
              "      border: none;\n",
              "      border-radius: 50%;\n",
              "      cursor: pointer;\n",
              "      display: none;\n",
              "      fill: #1967D2;\n",
              "      height: 32px;\n",
              "      padding: 0 0 0 0;\n",
              "      width: 32px;\n",
              "    }\n",
              "\n",
              "    .colab-df-convert:hover {\n",
              "      background-color: #E2EBFA;\n",
              "      box-shadow: 0px 1px 2px rgba(60, 64, 67, 0.3), 0px 1px 3px 1px rgba(60, 64, 67, 0.15);\n",
              "      fill: #174EA6;\n",
              "    }\n",
              "\n",
              "    [theme=dark] .colab-df-convert {\n",
              "      background-color: #3B4455;\n",
              "      fill: #D2E3FC;\n",
              "    }\n",
              "\n",
              "    [theme=dark] .colab-df-convert:hover {\n",
              "      background-color: #434B5C;\n",
              "      box-shadow: 0px 1px 3px 1px rgba(0, 0, 0, 0.15);\n",
              "      filter: drop-shadow(0px 1px 2px rgba(0, 0, 0, 0.3));\n",
              "      fill: #FFFFFF;\n",
              "    }\n",
              "  </style>\n",
              "\n",
              "      <script>\n",
              "        const buttonEl =\n",
              "          document.querySelector('#df-657d3518-9f87-459d-8067-453d00c2a04e button.colab-df-convert');\n",
              "        buttonEl.style.display =\n",
              "          google.colab.kernel.accessAllowed ? 'block' : 'none';\n",
              "\n",
              "        async function convertToInteractive(key) {\n",
              "          const element = document.querySelector('#df-657d3518-9f87-459d-8067-453d00c2a04e');\n",
              "          const dataTable =\n",
              "            await google.colab.kernel.invokeFunction('convertToInteractive',\n",
              "                                                     [key], {});\n",
              "          if (!dataTable) return;\n",
              "\n",
              "          const docLinkHtml = 'Like what you see? Visit the ' +\n",
              "            '<a target=\"_blank\" href=https://colab.research.google.com/notebooks/data_table.ipynb>data table notebook</a>'\n",
              "            + ' to learn more about interactive tables.';\n",
              "          element.innerHTML = '';\n",
              "          dataTable['output_type'] = 'display_data';\n",
              "          await google.colab.output.renderOutput(dataTable, element);\n",
              "          const docLink = document.createElement('div');\n",
              "          docLink.innerHTML = docLinkHtml;\n",
              "          element.appendChild(docLink);\n",
              "        }\n",
              "      </script>\n",
              "    </div>\n",
              "  </div>\n",
              "  "
            ]
          },
          "metadata": {},
          "execution_count": 37
        }
      ]
    },
    {
      "cell_type": "code",
      "source": [
        "summary_df.shape"
      ],
      "metadata": {
        "colab": {
          "base_uri": "https://localhost:8080/"
        },
        "id": "1KrknsP8EZUG",
        "outputId": "42ee8c56-6166-436a-e32b-394eab604e8d"
      },
      "execution_count": 38,
      "outputs": [
        {
          "output_type": "execute_result",
          "data": {
            "text/plain": [
              "(33093, 9)"
            ]
          },
          "metadata": {},
          "execution_count": 38
        }
      ]
    },
    {
      "cell_type": "code",
      "source": [
        "summary_df.describe()"
      ],
      "metadata": {
        "colab": {
          "base_uri": "https://localhost:8080/",
          "height": 364
        },
        "id": "4mGGBQltYZsA",
        "outputId": "f6d1eed4-2686-45c0-dd38-b5f95a6abe2b"
      },
      "execution_count": 39,
      "outputs": [
        {
          "output_type": "execute_result",
          "data": {
            "text/plain": [
              "       totals.transactionrevenue_min  totals.transactionrevenue_max  \\\n",
              "count                        1559.00                        1559.00   \n",
              "mean                           17.87                          17.93   \n",
              "std                             1.17                           1.20   \n",
              "min                            14.00                          14.00   \n",
              "25%                            17.11                          17.12   \n",
              "50%                            17.80                          17.84   \n",
              "75%                            18.53                          18.59   \n",
              "max                            22.30                          22.43   \n",
              "\n",
              "       totals.transactionrevenue_sum  totals.transactionrevenue_avg  \\\n",
              "count                       33093.00                        1559.00   \n",
              "mean                            0.91                          17.90   \n",
              "std                             4.42                           1.17   \n",
              "min                             0.00                          14.00   \n",
              "25%                             0.00                          17.12   \n",
              "50%                             0.00                          17.84   \n",
              "75%                             0.00                          18.57   \n",
              "max                           160.25                          22.30   \n",
              "\n",
              "       totals.transactionrevenue_count  date_purchase_duration  \\\n",
              "count                         33093.00                33093.00   \n",
              "mean                              0.05                    5.82   \n",
              "std                               0.24                   24.64   \n",
              "min                               0.00                    0.00   \n",
              "25%                               0.00                    0.00   \n",
              "50%                               0.00                    0.00   \n",
              "75%                               0.00                    0.00   \n",
              "max                               9.00                  361.00   \n",
              "\n",
              "       date_purchase_frequency  \n",
              "count                 33093.00  \n",
              "mean                      2.09  \n",
              "std                       8.80  \n",
              "min                       0.00  \n",
              "25%                       0.00  \n",
              "50%                       0.00  \n",
              "75%                       0.00  \n",
              "max                     155.50  "
            ],
            "text/html": [
              "\n",
              "  <div id=\"df-8a68dc43-c79d-45b0-a8a1-632abf983d2d\">\n",
              "    <div class=\"colab-df-container\">\n",
              "      <div>\n",
              "<style scoped>\n",
              "    .dataframe tbody tr th:only-of-type {\n",
              "        vertical-align: middle;\n",
              "    }\n",
              "\n",
              "    .dataframe tbody tr th {\n",
              "        vertical-align: top;\n",
              "    }\n",
              "\n",
              "    .dataframe thead th {\n",
              "        text-align: right;\n",
              "    }\n",
              "</style>\n",
              "<table border=\"1\" class=\"dataframe\">\n",
              "  <thead>\n",
              "    <tr style=\"text-align: right;\">\n",
              "      <th></th>\n",
              "      <th>totals.transactionrevenue_min</th>\n",
              "      <th>totals.transactionrevenue_max</th>\n",
              "      <th>totals.transactionrevenue_sum</th>\n",
              "      <th>totals.transactionrevenue_avg</th>\n",
              "      <th>totals.transactionrevenue_count</th>\n",
              "      <th>date_purchase_duration</th>\n",
              "      <th>date_purchase_frequency</th>\n",
              "    </tr>\n",
              "  </thead>\n",
              "  <tbody>\n",
              "    <tr>\n",
              "      <th>count</th>\n",
              "      <td>1559.00</td>\n",
              "      <td>1559.00</td>\n",
              "      <td>33093.00</td>\n",
              "      <td>1559.00</td>\n",
              "      <td>33093.00</td>\n",
              "      <td>33093.00</td>\n",
              "      <td>33093.00</td>\n",
              "    </tr>\n",
              "    <tr>\n",
              "      <th>mean</th>\n",
              "      <td>17.87</td>\n",
              "      <td>17.93</td>\n",
              "      <td>0.91</td>\n",
              "      <td>17.90</td>\n",
              "      <td>0.05</td>\n",
              "      <td>5.82</td>\n",
              "      <td>2.09</td>\n",
              "    </tr>\n",
              "    <tr>\n",
              "      <th>std</th>\n",
              "      <td>1.17</td>\n",
              "      <td>1.20</td>\n",
              "      <td>4.42</td>\n",
              "      <td>1.17</td>\n",
              "      <td>0.24</td>\n",
              "      <td>24.64</td>\n",
              "      <td>8.80</td>\n",
              "    </tr>\n",
              "    <tr>\n",
              "      <th>min</th>\n",
              "      <td>14.00</td>\n",
              "      <td>14.00</td>\n",
              "      <td>0.00</td>\n",
              "      <td>14.00</td>\n",
              "      <td>0.00</td>\n",
              "      <td>0.00</td>\n",
              "      <td>0.00</td>\n",
              "    </tr>\n",
              "    <tr>\n",
              "      <th>25%</th>\n",
              "      <td>17.11</td>\n",
              "      <td>17.12</td>\n",
              "      <td>0.00</td>\n",
              "      <td>17.12</td>\n",
              "      <td>0.00</td>\n",
              "      <td>0.00</td>\n",
              "      <td>0.00</td>\n",
              "    </tr>\n",
              "    <tr>\n",
              "      <th>50%</th>\n",
              "      <td>17.80</td>\n",
              "      <td>17.84</td>\n",
              "      <td>0.00</td>\n",
              "      <td>17.84</td>\n",
              "      <td>0.00</td>\n",
              "      <td>0.00</td>\n",
              "      <td>0.00</td>\n",
              "    </tr>\n",
              "    <tr>\n",
              "      <th>75%</th>\n",
              "      <td>18.53</td>\n",
              "      <td>18.59</td>\n",
              "      <td>0.00</td>\n",
              "      <td>18.57</td>\n",
              "      <td>0.00</td>\n",
              "      <td>0.00</td>\n",
              "      <td>0.00</td>\n",
              "    </tr>\n",
              "    <tr>\n",
              "      <th>max</th>\n",
              "      <td>22.30</td>\n",
              "      <td>22.43</td>\n",
              "      <td>160.25</td>\n",
              "      <td>22.30</td>\n",
              "      <td>9.00</td>\n",
              "      <td>361.00</td>\n",
              "      <td>155.50</td>\n",
              "    </tr>\n",
              "  </tbody>\n",
              "</table>\n",
              "</div>\n",
              "      <button class=\"colab-df-convert\" onclick=\"convertToInteractive('df-8a68dc43-c79d-45b0-a8a1-632abf983d2d')\"\n",
              "              title=\"Convert this dataframe to an interactive table.\"\n",
              "              style=\"display:none;\">\n",
              "        \n",
              "  <svg xmlns=\"http://www.w3.org/2000/svg\" height=\"24px\"viewBox=\"0 0 24 24\"\n",
              "       width=\"24px\">\n",
              "    <path d=\"M0 0h24v24H0V0z\" fill=\"none\"/>\n",
              "    <path d=\"M18.56 5.44l.94 2.06.94-2.06 2.06-.94-2.06-.94-.94-2.06-.94 2.06-2.06.94zm-11 1L8.5 8.5l.94-2.06 2.06-.94-2.06-.94L8.5 2.5l-.94 2.06-2.06.94zm10 10l.94 2.06.94-2.06 2.06-.94-2.06-.94-.94-2.06-.94 2.06-2.06.94z\"/><path d=\"M17.41 7.96l-1.37-1.37c-.4-.4-.92-.59-1.43-.59-.52 0-1.04.2-1.43.59L10.3 9.45l-7.72 7.72c-.78.78-.78 2.05 0 2.83L4 21.41c.39.39.9.59 1.41.59.51 0 1.02-.2 1.41-.59l7.78-7.78 2.81-2.81c.8-.78.8-2.07 0-2.86zM5.41 20L4 18.59l7.72-7.72 1.47 1.35L5.41 20z\"/>\n",
              "  </svg>\n",
              "      </button>\n",
              "      \n",
              "  <style>\n",
              "    .colab-df-container {\n",
              "      display:flex;\n",
              "      flex-wrap:wrap;\n",
              "      gap: 12px;\n",
              "    }\n",
              "\n",
              "    .colab-df-convert {\n",
              "      background-color: #E8F0FE;\n",
              "      border: none;\n",
              "      border-radius: 50%;\n",
              "      cursor: pointer;\n",
              "      display: none;\n",
              "      fill: #1967D2;\n",
              "      height: 32px;\n",
              "      padding: 0 0 0 0;\n",
              "      width: 32px;\n",
              "    }\n",
              "\n",
              "    .colab-df-convert:hover {\n",
              "      background-color: #E2EBFA;\n",
              "      box-shadow: 0px 1px 2px rgba(60, 64, 67, 0.3), 0px 1px 3px 1px rgba(60, 64, 67, 0.15);\n",
              "      fill: #174EA6;\n",
              "    }\n",
              "\n",
              "    [theme=dark] .colab-df-convert {\n",
              "      background-color: #3B4455;\n",
              "      fill: #D2E3FC;\n",
              "    }\n",
              "\n",
              "    [theme=dark] .colab-df-convert:hover {\n",
              "      background-color: #434B5C;\n",
              "      box-shadow: 0px 1px 3px 1px rgba(0, 0, 0, 0.15);\n",
              "      filter: drop-shadow(0px 1px 2px rgba(0, 0, 0, 0.3));\n",
              "      fill: #FFFFFF;\n",
              "    }\n",
              "  </style>\n",
              "\n",
              "      <script>\n",
              "        const buttonEl =\n",
              "          document.querySelector('#df-8a68dc43-c79d-45b0-a8a1-632abf983d2d button.colab-df-convert');\n",
              "        buttonEl.style.display =\n",
              "          google.colab.kernel.accessAllowed ? 'block' : 'none';\n",
              "\n",
              "        async function convertToInteractive(key) {\n",
              "          const element = document.querySelector('#df-8a68dc43-c79d-45b0-a8a1-632abf983d2d');\n",
              "          const dataTable =\n",
              "            await google.colab.kernel.invokeFunction('convertToInteractive',\n",
              "                                                     [key], {});\n",
              "          if (!dataTable) return;\n",
              "\n",
              "          const docLinkHtml = 'Like what you see? Visit the ' +\n",
              "            '<a target=\"_blank\" href=https://colab.research.google.com/notebooks/data_table.ipynb>data table notebook</a>'\n",
              "            + ' to learn more about interactive tables.';\n",
              "          element.innerHTML = '';\n",
              "          dataTable['output_type'] = 'display_data';\n",
              "          await google.colab.output.renderOutput(dataTable, element);\n",
              "          const docLink = document.createElement('div');\n",
              "          docLink.innerHTML = docLinkHtml;\n",
              "          element.appendChild(docLink);\n",
              "        }\n",
              "      </script>\n",
              "    </div>\n",
              "  </div>\n",
              "  "
            ]
          },
          "metadata": {},
          "execution_count": 39
        }
      ]
    },
    {
      "cell_type": "code",
      "source": [
        "summary_df = summary_df.loc[summary_df['date_purchase_duration'] > 0]"
      ],
      "metadata": {
        "id": "p4eqU2fKEZR6"
      },
      "execution_count": 40,
      "outputs": []
    },
    {
      "cell_type": "code",
      "source": [
        "summary_df.shape"
      ],
      "metadata": {
        "colab": {
          "base_uri": "https://localhost:8080/"
        },
        "id": "bxTy7P-rCw3a",
        "outputId": "fe492089-8e91-41eb-ac58-de36b9689f1c"
      },
      "execution_count": 41,
      "outputs": [
        {
          "output_type": "execute_result",
          "data": {
            "text/plain": [
              "(5765, 9)"
            ]
          },
          "metadata": {},
          "execution_count": 41
        }
      ]
    },
    {
      "cell_type": "code",
      "source": [
        "summary_df.head()"
      ],
      "metadata": {
        "colab": {
          "base_uri": "https://localhost:8080/",
          "height": 388
        },
        "id": "duaFZIXOE1db",
        "outputId": "1faaf86d-d681-4e6d-9956-42bc77787a6b"
      },
      "execution_count": 42,
      "outputs": [
        {
          "output_type": "execute_result",
          "data": {
            "text/plain": [
              "                  totals.transactionrevenue_min  \\\n",
              "fullVisitorId                                     \n",
              "702913088027926                             NaN   \n",
              "937838020298941                             NaN   \n",
              "1237198903748058                            NaN   \n",
              "1285462512259769                            NaN   \n",
              "2039805699643561                            NaN   \n",
              "\n",
              "                  totals.transactionrevenue_max  \\\n",
              "fullVisitorId                                     \n",
              "702913088027926                             NaN   \n",
              "937838020298941                             NaN   \n",
              "1237198903748058                            NaN   \n",
              "1285462512259769                            NaN   \n",
              "2039805699643561                            NaN   \n",
              "\n",
              "                  totals.transactionrevenue_sum  \\\n",
              "fullVisitorId                                     \n",
              "702913088027926                             0.0   \n",
              "937838020298941                             0.0   \n",
              "1237198903748058                            0.0   \n",
              "1285462512259769                            0.0   \n",
              "2039805699643561                            0.0   \n",
              "\n",
              "                  totals.transactionrevenue_avg  \\\n",
              "fullVisitorId                                     \n",
              "702913088027926                             NaN   \n",
              "937838020298941                             NaN   \n",
              "1237198903748058                            NaN   \n",
              "1285462512259769                            NaN   \n",
              "2039805699643561                            NaN   \n",
              "\n",
              "                  totals.transactionrevenue_count   date_min   date_max  \\\n",
              "fullVisitorId                                                             \n",
              "702913088027926                                 0 2017-03-18 2017-03-20   \n",
              "937838020298941                                 0 2016-10-21 2016-12-13   \n",
              "1237198903748058                                0 2016-08-05 2016-08-11   \n",
              "1285462512259769                                0 2017-06-30 2017-07-04   \n",
              "2039805699643561                                0 2016-10-26 2016-11-30   \n",
              "\n",
              "                  date_purchase_duration  date_purchase_frequency  \n",
              "fullVisitorId                                                      \n",
              "702913088027926                        2                      0.5  \n",
              "937838020298941                       53                     26.5  \n",
              "1237198903748058                       6                      3.0  \n",
              "1285462512259769                       4                      2.0  \n",
              "2039805699643561                      35                      7.0  "
            ],
            "text/html": [
              "\n",
              "  <div id=\"df-6a65aaaf-c0d7-4fb5-b051-2dff1762533b\">\n",
              "    <div class=\"colab-df-container\">\n",
              "      <div>\n",
              "<style scoped>\n",
              "    .dataframe tbody tr th:only-of-type {\n",
              "        vertical-align: middle;\n",
              "    }\n",
              "\n",
              "    .dataframe tbody tr th {\n",
              "        vertical-align: top;\n",
              "    }\n",
              "\n",
              "    .dataframe thead th {\n",
              "        text-align: right;\n",
              "    }\n",
              "</style>\n",
              "<table border=\"1\" class=\"dataframe\">\n",
              "  <thead>\n",
              "    <tr style=\"text-align: right;\">\n",
              "      <th></th>\n",
              "      <th>totals.transactionrevenue_min</th>\n",
              "      <th>totals.transactionrevenue_max</th>\n",
              "      <th>totals.transactionrevenue_sum</th>\n",
              "      <th>totals.transactionrevenue_avg</th>\n",
              "      <th>totals.transactionrevenue_count</th>\n",
              "      <th>date_min</th>\n",
              "      <th>date_max</th>\n",
              "      <th>date_purchase_duration</th>\n",
              "      <th>date_purchase_frequency</th>\n",
              "    </tr>\n",
              "    <tr>\n",
              "      <th>fullVisitorId</th>\n",
              "      <th></th>\n",
              "      <th></th>\n",
              "      <th></th>\n",
              "      <th></th>\n",
              "      <th></th>\n",
              "      <th></th>\n",
              "      <th></th>\n",
              "      <th></th>\n",
              "      <th></th>\n",
              "    </tr>\n",
              "  </thead>\n",
              "  <tbody>\n",
              "    <tr>\n",
              "      <th>702913088027926</th>\n",
              "      <td>NaN</td>\n",
              "      <td>NaN</td>\n",
              "      <td>0.0</td>\n",
              "      <td>NaN</td>\n",
              "      <td>0</td>\n",
              "      <td>2017-03-18</td>\n",
              "      <td>2017-03-20</td>\n",
              "      <td>2</td>\n",
              "      <td>0.5</td>\n",
              "    </tr>\n",
              "    <tr>\n",
              "      <th>937838020298941</th>\n",
              "      <td>NaN</td>\n",
              "      <td>NaN</td>\n",
              "      <td>0.0</td>\n",
              "      <td>NaN</td>\n",
              "      <td>0</td>\n",
              "      <td>2016-10-21</td>\n",
              "      <td>2016-12-13</td>\n",
              "      <td>53</td>\n",
              "      <td>26.5</td>\n",
              "    </tr>\n",
              "    <tr>\n",
              "      <th>1237198903748058</th>\n",
              "      <td>NaN</td>\n",
              "      <td>NaN</td>\n",
              "      <td>0.0</td>\n",
              "      <td>NaN</td>\n",
              "      <td>0</td>\n",
              "      <td>2016-08-05</td>\n",
              "      <td>2016-08-11</td>\n",
              "      <td>6</td>\n",
              "      <td>3.0</td>\n",
              "    </tr>\n",
              "    <tr>\n",
              "      <th>1285462512259769</th>\n",
              "      <td>NaN</td>\n",
              "      <td>NaN</td>\n",
              "      <td>0.0</td>\n",
              "      <td>NaN</td>\n",
              "      <td>0</td>\n",
              "      <td>2017-06-30</td>\n",
              "      <td>2017-07-04</td>\n",
              "      <td>4</td>\n",
              "      <td>2.0</td>\n",
              "    </tr>\n",
              "    <tr>\n",
              "      <th>2039805699643561</th>\n",
              "      <td>NaN</td>\n",
              "      <td>NaN</td>\n",
              "      <td>0.0</td>\n",
              "      <td>NaN</td>\n",
              "      <td>0</td>\n",
              "      <td>2016-10-26</td>\n",
              "      <td>2016-11-30</td>\n",
              "      <td>35</td>\n",
              "      <td>7.0</td>\n",
              "    </tr>\n",
              "  </tbody>\n",
              "</table>\n",
              "</div>\n",
              "      <button class=\"colab-df-convert\" onclick=\"convertToInteractive('df-6a65aaaf-c0d7-4fb5-b051-2dff1762533b')\"\n",
              "              title=\"Convert this dataframe to an interactive table.\"\n",
              "              style=\"display:none;\">\n",
              "        \n",
              "  <svg xmlns=\"http://www.w3.org/2000/svg\" height=\"24px\"viewBox=\"0 0 24 24\"\n",
              "       width=\"24px\">\n",
              "    <path d=\"M0 0h24v24H0V0z\" fill=\"none\"/>\n",
              "    <path d=\"M18.56 5.44l.94 2.06.94-2.06 2.06-.94-2.06-.94-.94-2.06-.94 2.06-2.06.94zm-11 1L8.5 8.5l.94-2.06 2.06-.94-2.06-.94L8.5 2.5l-.94 2.06-2.06.94zm10 10l.94 2.06.94-2.06 2.06-.94-2.06-.94-.94-2.06-.94 2.06-2.06.94z\"/><path d=\"M17.41 7.96l-1.37-1.37c-.4-.4-.92-.59-1.43-.59-.52 0-1.04.2-1.43.59L10.3 9.45l-7.72 7.72c-.78.78-.78 2.05 0 2.83L4 21.41c.39.39.9.59 1.41.59.51 0 1.02-.2 1.41-.59l7.78-7.78 2.81-2.81c.8-.78.8-2.07 0-2.86zM5.41 20L4 18.59l7.72-7.72 1.47 1.35L5.41 20z\"/>\n",
              "  </svg>\n",
              "      </button>\n",
              "      \n",
              "  <style>\n",
              "    .colab-df-container {\n",
              "      display:flex;\n",
              "      flex-wrap:wrap;\n",
              "      gap: 12px;\n",
              "    }\n",
              "\n",
              "    .colab-df-convert {\n",
              "      background-color: #E8F0FE;\n",
              "      border: none;\n",
              "      border-radius: 50%;\n",
              "      cursor: pointer;\n",
              "      display: none;\n",
              "      fill: #1967D2;\n",
              "      height: 32px;\n",
              "      padding: 0 0 0 0;\n",
              "      width: 32px;\n",
              "    }\n",
              "\n",
              "    .colab-df-convert:hover {\n",
              "      background-color: #E2EBFA;\n",
              "      box-shadow: 0px 1px 2px rgba(60, 64, 67, 0.3), 0px 1px 3px 1px rgba(60, 64, 67, 0.15);\n",
              "      fill: #174EA6;\n",
              "    }\n",
              "\n",
              "    [theme=dark] .colab-df-convert {\n",
              "      background-color: #3B4455;\n",
              "      fill: #D2E3FC;\n",
              "    }\n",
              "\n",
              "    [theme=dark] .colab-df-convert:hover {\n",
              "      background-color: #434B5C;\n",
              "      box-shadow: 0px 1px 3px 1px rgba(0, 0, 0, 0.15);\n",
              "      filter: drop-shadow(0px 1px 2px rgba(0, 0, 0, 0.3));\n",
              "      fill: #FFFFFF;\n",
              "    }\n",
              "  </style>\n",
              "\n",
              "      <script>\n",
              "        const buttonEl =\n",
              "          document.querySelector('#df-6a65aaaf-c0d7-4fb5-b051-2dff1762533b button.colab-df-convert');\n",
              "        buttonEl.style.display =\n",
              "          google.colab.kernel.accessAllowed ? 'block' : 'none';\n",
              "\n",
              "        async function convertToInteractive(key) {\n",
              "          const element = document.querySelector('#df-6a65aaaf-c0d7-4fb5-b051-2dff1762533b');\n",
              "          const dataTable =\n",
              "            await google.colab.kernel.invokeFunction('convertToInteractive',\n",
              "                                                     [key], {});\n",
              "          if (!dataTable) return;\n",
              "\n",
              "          const docLinkHtml = 'Like what you see? Visit the ' +\n",
              "            '<a target=\"_blank\" href=https://colab.research.google.com/notebooks/data_table.ipynb>data table notebook</a>'\n",
              "            + ' to learn more about interactive tables.';\n",
              "          element.innerHTML = '';\n",
              "          dataTable['output_type'] = 'display_data';\n",
              "          await google.colab.output.renderOutput(dataTable, element);\n",
              "          const docLink = document.createElement('div');\n",
              "          docLink.innerHTML = docLinkHtml;\n",
              "          element.appendChild(docLink);\n",
              "        }\n",
              "      </script>\n",
              "    </div>\n",
              "  </div>\n",
              "  "
            ]
          },
          "metadata": {},
          "execution_count": 42
        }
      ]
    },
    {
      "cell_type": "code",
      "source": [
        "import matplotlib.pyplot as plt\n",
        "\n",
        "ax = summary_df.groupby('totals.transactionrevenue_count').count()['totals.transactionrevenue_avg'][:20].plot(\n",
        "    kind='bar', \n",
        "    color='skyblue',\n",
        "    figsize=(12,7), \n",
        "    grid=True\n",
        ")\n",
        "\n",
        "ax.set_ylabel('count')\n",
        "\n",
        "plt.show()"
      ],
      "metadata": {
        "colab": {
          "base_uri": "https://localhost:8080/",
          "height": 441
        },
        "id": "BAPrK2HgE0ij",
        "outputId": "5ce10b9c-4f6c-4c99-de05-294aae14a9b5"
      },
      "execution_count": 43,
      "outputs": [
        {
          "output_type": "display_data",
          "data": {
            "text/plain": [
              "<Figure size 864x504 with 1 Axes>"
            ],
            "image/png": "[encoded data removed]"
          },
          "metadata": {
            "needs_background": "light"
          }
        }
      ]
    },
    {
      "cell_type": "code",
      "source": [
        "ax = summary_df['date_purchase_frequency'].hist(\n",
        "    bins=20,\n",
        "    color='skyblue',\n",
        "    rwidth=0.7,\n",
        "    figsize=(12,7)\n",
        ")\n",
        "\n",
        "ax.set_xlabel('avg. number of days between purchases')\n",
        "ax.set_ylabel('count')\n",
        "\n",
        "plt.show()"
      ],
      "metadata": {
        "colab": {
          "base_uri": "https://localhost:8080/",
          "height": 442
        },
        "id": "YC-74rRVFLli",
        "outputId": "68587cc8-9d50-4c33-9fd8-a2029c30d30f"
      },
      "execution_count": 44,
      "outputs": [
        {
          "output_type": "display_data",
          "data": {
            "text/plain": [
              "<Figure size 864x504 with 1 Axes>"
            ],
            "image/png": "[encoded data removed]"
          },
          "metadata": {
            "needs_background": "light"
          }
        }
      ]
    },
    {
      "cell_type": "code",
      "source": [
        "from sklearn import model_selection, preprocessing, metrics\n",
        "import lightgbm as lgb\n",
        "\n",
        "# Impute 0 for missing target values\n",
        "df[\"totals.transactionRevenue\"].fillna(0, inplace=True)\n",
        "y = df[\"totals.transactionRevenue\"].values\n",
        "id = df[\"fullVisitorId\"].values\n",
        "\n",
        "\n",
        "cat_cols = ['channelGrouping','device.browser','device.deviceCategory',\n",
        "            'device.operatingSystem','geoNetwork.country','trafficSource.campaign',\n",
        "            'trafficSource.keyword','trafficSource.medium','trafficSource.referralPath',\n",
        "            'trafficSource.source','trafficSource.isTrueDirect']\n",
        "\n",
        "for col in cat_cols:\n",
        "    print(col)\n",
        "    lbl = preprocessing.LabelEncoder()\n",
        "    lbl.fit(list(df[col].values.astype('str')))\n",
        "    df[col] = lbl.transform(list(df[col].values.astype('str')))\n",
        "\n",
        "\n",
        "num_cols = ['totals.hits',\n",
        "            'totals.pageviews',\n",
        "            'visitNumber',\n",
        "            'totals.bounces',\n",
        "            'totals.newVisits']\n",
        "\n",
        "for col in num_cols:\n",
        "    print(col)\n",
        "    df[col] = df[col].astype(float)\n",
        "    # test_df[col] = test_df[col].astype(float)"
      ],
      "metadata": {
        "colab": {
          "base_uri": "https://localhost:8080/"
        },
        "id": "dBpypsph9zf_",
        "outputId": "51c8aa38-8cd3-4d91-fdb2-ca3eb190e6df"
      },
      "execution_count": 45,
      "outputs": [
        {
          "output_type": "stream",
          "name": "stdout",
          "text": [
            "channelGrouping\n",
            "device.browser\n",
            "device.deviceCategory\n",
            "device.operatingSystem\n",
            "geoNetwork.country\n",
            "trafficSource.campaign\n",
            "trafficSource.keyword\n",
            "trafficSource.medium\n",
            "trafficSource.referralPath\n",
            "trafficSource.source\n",
            "trafficSource.isTrueDirect\n",
            "totals.hits\n",
            "totals.pageviews\n",
            "visitNumber\n",
            "totals.bounces\n",
            "totals.newVisits\n"
          ]
        }
      ]
    },
    {
      "cell_type": "code",
      "source": [
        "import datetime\n",
        "\n",
        "# Split the train dataset into development and valid based on time \n",
        "\n",
        "dev_df = df[df['date']<='2017-05-31']\n",
        "val_df = df[df['date']>'2017-05-31']\n",
        "dev_y = np.log1p(dev_df[\"totals.transactionRevenue\"].values)\n",
        "val_y = np.log1p(val_df[\"totals.transactionRevenue\"].values)\n",
        "\n",
        "dev_X = dev_df[cat_cols + num_cols] \n",
        "val_X = val_df[cat_cols + num_cols] \n",
        "# test_X = test_df[cat_cols + num_cols] "
      ],
      "metadata": {
        "id": "O7F2a5SarvPy"
      },
      "execution_count": 46,
      "outputs": []
    },
    {
      "cell_type": "code",
      "source": [
        "dev_df.shape"
      ],
      "metadata": {
        "colab": {
          "base_uri": "https://localhost:8080/"
        },
        "id": "heD_MNIBBg5o",
        "outputId": "d39557bc-9bde-44e1-eadf-f9831e8e7a52"
      },
      "execution_count": 47,
      "outputs": [
        {
          "output_type": "execute_result",
          "data": {
            "text/plain": [
              "(45720, 22)"
            ]
          },
          "metadata": {},
          "execution_count": 47
        }
      ]
    },
    {
      "cell_type": "code",
      "source": [
        "val_df.shape"
      ],
      "metadata": {
        "colab": {
          "base_uri": "https://localhost:8080/"
        },
        "id": "75RfVF4BBlY7",
        "outputId": "eff0651c-c34a-45b2-a1f7-e9b4bd5ca37b"
      },
      "execution_count": 48,
      "outputs": [
        {
          "output_type": "execute_result",
          "data": {
            "text/plain": [
              "(8226, 22)"
            ]
          },
          "metadata": {},
          "execution_count": 48
        }
      ]
    },
    {
      "cell_type": "code",
      "source": [
        "# custom function to run light gbm model\n",
        "def run_lgb(train_X, train_y, val_X, val_y):\n",
        "    params = {\n",
        "        \"objective\" : \"regression\",\n",
        "        \"metric\" : \"rmse\", \n",
        "        \"num_leaves\" : 30,\n",
        "        \"min_child_samples\" : 100,\n",
        "        \"learning_rate\" : 0.1,\n",
        "        \"bagging_fraction\" : 0.7,\n",
        "        \"feature_fraction\" : 0.5,\n",
        "        \"bagging_frequency\" : 5,\n",
        "        \"bagging_seed\" : 2018,\n",
        "        \"verbosity\" : -1\n",
        "    }\n",
        "    \n",
        "    lgtrain = lgb.Dataset(train_X, label=train_y)\n",
        "    lgval = lgb.Dataset(val_X, label=val_y)\n",
        "    model = lgb.train(params, lgtrain, 1000, valid_sets=[lgval], early_stopping_rounds=100, verbose_eval=100)\n",
        "    \n",
        "    # pred_test_y = model.predict(test_X, num_iteration=model.best_iteration)\n",
        "    pred_val_y = model.predict(val_X, num_iteration=model.best_iteration)\n",
        "    return model, pred_val_y\n",
        "\n",
        "# Training the model #\n",
        "model, pred_val = run_lgb(dev_X, dev_y, val_X, val_y)"
      ],
      "metadata": {
        "colab": {
          "base_uri": "https://localhost:8080/"
        },
        "id": "BUoGx8BvA_pY",
        "outputId": "902f1faa-a474-4b87-f29a-6ad61334c99e"
      },
      "execution_count": 49,
      "outputs": [
        {
          "output_type": "stream",
          "name": "stdout",
          "text": [
            "Training until validation scores don't improve for 100 rounds.\n",
            "[100]\tvalid_0's rmse: 0.41462\n",
            "Early stopping, best iteration is:\n",
            "[97]\tvalid_0's rmse: 0.414428\n"
          ]
        }
      ]
    }
  ]
}