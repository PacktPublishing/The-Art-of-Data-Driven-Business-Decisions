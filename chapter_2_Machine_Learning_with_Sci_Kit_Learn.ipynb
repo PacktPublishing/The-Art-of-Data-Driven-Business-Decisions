{
  "nbformat": 4,
  "nbformat_minor": 0,
  "metadata": {
    "colab": {
      "provenance": [],
      "collapsed_sections": []
    },
    "kernelspec": {
      "name": "python3",
      "display_name": "Python 3"
    },
    "language_info": {
      "name": "python"
    }
  },
  "cells": [
    {
      "cell_type": "code",
      "source": [
        "from scipy.stats import ttest_ind\n",
        "import pandas as pd\n",
        "\n",
        "# Dataset from Matzke et al. (2015). In this dataset, participants performed a memory task in which they recalled a list of words. \n",
        "# During the retention interval, one group of participants looked at a central fixation dot on a display. \n",
        "# Another group of participants continuously made horizontal eye movements, which is believed by some to improve memory.\n",
        "dm = pd.read_csv('matzke_et_al.csv')\n",
        "\n",
        "dm_horizontal = dm[dm.Condition=='Horizontal']\n",
        "dm_fixation = dm[dm.Condition=='Fixation']\n",
        "\n",
        "t, p = ttest_ind(dm_horizontal.CriticalRecall, dm_fixation.CriticalRecall)\n",
        "print('t = {:.3f}, p = {:.3f}'.format(t, p))"
      ],
      "metadata": {
        "id": "a25M71FdDXjh",
        "colab": {
          "base_uri": "https://localhost:8080/"
        },
        "outputId": "d5cafee2-52c8-4f31-bc18-d258803338c3"
      },
      "execution_count": 1,
      "outputs": [
        {
          "output_type": "stream",
          "name": "stdout",
          "text": [
            "t = -2.845, p = 0.007\n"
          ]
        }
      ]
    },
    {
      "cell_type": "code",
      "source": [
        "# This reveals a significant difference (p = .0066). However, as you can see in the figure below, the effect goes in the opposite direction from the prediction, such that the fixation group performed best.\n",
        "\n",
        "# You can also use the ttest() function from pingouin. This also provides a Bayes Factor, for those who are into Bayesian statistics."
      ],
      "metadata": {
        "id": "uaXiNr5wf6og"
      },
      "execution_count": 2,
      "outputs": []
    },
    {
      "cell_type": "code",
      "source": [
        "import seaborn as sns\n",
        "import matplotlib.pyplot as plt # visualization\n",
        "\n",
        "sns.barplot(x='Condition', y='CriticalRecall', data=dm)\n",
        "plt.xlabel('Condition')\n",
        "plt.ylabel('Memory performance')\n",
        "plt.show()"
      ],
      "metadata": {
        "colab": {
          "base_uri": "https://localhost:8080/",
          "height": 279
        },
        "id": "fhdvSQxVf4r1",
        "outputId": "21e53ad7-12c5-4bcb-8d03-6eb02dac7601"
      },
      "execution_count": 4,
      "outputs": [
        {
          "output_type": "display_data",
          "data": {
            "text/plain": [
              "<Figure size 432x288 with 1 Axes>"
            ],
            "image/png": "[encoded data removed]"
          },
          "metadata": {
            "needs_background": "light"
          }
        }
      ]
    },
    {
      "cell_type": "code",
      "source": [
        "from scipy.stats import ttest_rel\n",
        "\n",
        "# Dataset from Moore, McCabe, & Craig of aggressive behavior from people suffering from dementia was measured during full moon and another phase of the lunar cycle. \n",
        "# Each participant was measured at both phases, i.e. this was a within-subject design.\n",
        "dm = pd.read_csv('moon-aggression.csv')\n",
        "\n",
        "t, p = ttest_rel(dm.Moon, dm.Other)\n",
        "print('t = {:.3f}, p = {:.3f}'.format(t, p))"
      ],
      "metadata": {
        "colab": {
          "base_uri": "https://localhost:8080/"
        },
        "id": "xz2p7LIxgrui",
        "outputId": "00aff3e3-470d-4841-c79e-dd7f41c7ba61"
      },
      "execution_count": 6,
      "outputs": [
        {
          "output_type": "stream",
          "name": "stdout",
          "text": [
            "t = 6.452, p = 0.000\n"
          ]
        }
      ]
    },
    {
      "cell_type": "code",
      "source": [
        "from statsmodels.formula.api import ols\n",
        "\n",
        "# dataset from Moore, McCabe, & Craig which contains grade-point averages (gpa) and SAT scores for mathematics (satm) and verbal knowledge (satv) for 500 high-school students. \n",
        "dm = pd.read_csv('gpa.csv')\n",
        "model = ols('gpa ~ satm + satv', data=dm).fit()\n",
        "print(model.summary())"
      ],
      "metadata": {
        "colab": {
          "base_uri": "https://localhost:8080/"
        },
        "id": "aVWmEFJ8g07p",
        "outputId": "0d244d2c-d241-4530-9f9d-ed98bd6c0bd2"
      },
      "execution_count": 7,
      "outputs": [
        {
          "output_type": "stream",
          "name": "stdout",
          "text": [
            "                            OLS Regression Results                            \n",
            "==============================================================================\n",
            "Dep. Variable:                    gpa   R-squared:                       0.063\n",
            "Model:                            OLS   Adj. R-squared:                  0.055\n",
            "Method:                 Least Squares   F-statistic:                     7.476\n",
            "Date:                Tue, 15 Nov 2022   Prob (F-statistic):           0.000722\n",
            "Time:                        13:40:56   Log-Likelihood:                -254.18\n",
            "No. Observations:                 224   AIC:                             514.4\n",
            "Df Residuals:                     221   BIC:                             524.6\n",
            "Df Model:                           2                                         \n",
            "Covariance Type:            nonrobust                                         \n",
            "==============================================================================\n",
            "                 coef    std err          t      P>|t|      [0.025      0.975]\n",
            "------------------------------------------------------------------------------\n",
            "Intercept      1.2887      0.376      3.427      0.001       0.548       2.030\n",
            "satm           0.0023      0.001      3.444      0.001       0.001       0.004\n",
            "satv       -2.456e-05      0.001     -0.040      0.968      -0.001       0.001\n",
            "==============================================================================\n",
            "Omnibus:                       23.688   Durbin-Watson:                   1.715\n",
            "Prob(Omnibus):                  0.000   Jarque-Bera (JB):               27.838\n",
            "Skew:                          -0.809   Prob(JB):                     9.02e-07\n",
            "Kurtosis:                       3.601   Cond. No.                     5.85e+03\n",
            "==============================================================================\n",
            "\n",
            "Notes:\n",
            "[1] Standard Errors assume that the covariance matrix of the errors is correctly specified.\n",
            "[2] The condition number is large, 5.85e+03. This might indicate that there are\n",
            "strong multicollinearity or other numerical problems.\n"
          ]
        }
      ]
    },
    {
      "cell_type": "code",
      "source": [
        "from statsmodels.stats.anova import anova_lm\n",
        "\n",
        "# Heart-rate data from Moore, McCabe, and Craig. This dataset contains two factors that vary between subjects (Gender and Group) and one dependent variable (Heart Rate).\n",
        "dm = pd.read_csv('heartrate.csv')\n",
        "dm = dm.rename({'Heart Rate':'HeartRate'},axis=1)  # statsmodels doesn't like spaces\n",
        "df = anova_lm(ols('HeartRate ~ Gender * Group', data=dm).fit())\n",
        "print(df)"
      ],
      "metadata": {
        "colab": {
          "base_uri": "https://localhost:8080/"
        },
        "id": "aHESMDmDhY20",
        "outputId": "71a7343d-80b9-4699-caef-b6ade8b142dd"
      },
      "execution_count": 8,
      "outputs": [
        {
          "output_type": "stream",
          "name": "stdout",
          "text": [
            "                 df      sum_sq        mean_sq           F         PR(>F)\n",
            "Gender          1.0   45030.005   45030.005000  185.979949   3.287945e-38\n",
            "Group           1.0  168432.080  168432.080000  695.647040  1.149926e-110\n",
            "Gender:Group    1.0    1794.005    1794.005000    7.409481   6.629953e-03\n",
            "Residual      796.0  192729.830     242.122902         NaN            NaN\n"
          ]
        }
      ]
    },
    {
      "cell_type": "code",
      "source": [],
      "metadata": {
        "id": "3T5y09gEgImd"
      },
      "execution_count": null,
      "outputs": []
    },
    {
      "cell_type": "code",
      "source": [
        "import numpy as np\n",
        "\n",
        "df = pd.DataFrame([(.2, .3,.8), (.0, .6,.9), (.6, .0,.4), (.2, .1,.9),\n",
        "                   (.1, .3,.7), (.1, .5,.6), (.7, .1,.5), (.3, .0,.8),],\n",
        "                  columns=['dogs', 'cats','birds'])\n",
        "\n",
        "corr_mat = df.corr()\n",
        "corr_mat"
      ],
      "metadata": {
        "colab": {
          "base_uri": "https://localhost:8080/",
          "height": 143
        },
        "id": "OO72MNml-ZQh",
        "outputId": "719cc221-5449-488a-f0be-9db55ce121f6"
      },
      "execution_count": 9,
      "outputs": [
        {
          "output_type": "execute_result",
          "data": {
            "text/plain": [
              "           dogs      cats     birds\n",
              "dogs   1.000000 -0.740432 -0.742781\n",
              "cats  -0.740432  1.000000  0.340799\n",
              "birds -0.742781  0.340799  1.000000"
            ],
            "text/html": [
              "\n",
              "  <div id=\"df-b4de8327-ac3e-44c0-9f9e-19d521c3a429\">\n",
              "    <div class=\"colab-df-container\">\n",
              "      <div>\n",
              "<style scoped>\n",
              "    .dataframe tbody tr th:only-of-type {\n",
              "        vertical-align: middle;\n",
              "    }\n",
              "\n",
              "    .dataframe tbody tr th {\n",
              "        vertical-align: top;\n",
              "    }\n",
              "\n",
              "    .dataframe thead th {\n",
              "        text-align: right;\n",
              "    }\n",
              "</style>\n",
              "<table border=\"1\" class=\"dataframe\">\n",
              "  <thead>\n",
              "    <tr style=\"text-align: right;\">\n",
              "      <th></th>\n",
              "      <th>dogs</th>\n",
              "      <th>cats</th>\n",
              "      <th>birds</th>\n",
              "    </tr>\n",
              "  </thead>\n",
              "  <tbody>\n",
              "    <tr>\n",
              "      <th>dogs</th>\n",
              "      <td>1.000000</td>\n",
              "      <td>-0.740432</td>\n",
              "      <td>-0.742781</td>\n",
              "    </tr>\n",
              "    <tr>\n",
              "      <th>cats</th>\n",
              "      <td>-0.740432</td>\n",
              "      <td>1.000000</td>\n",
              "      <td>0.340799</td>\n",
              "    </tr>\n",
              "    <tr>\n",
              "      <th>birds</th>\n",
              "      <td>-0.742781</td>\n",
              "      <td>0.340799</td>\n",
              "      <td>1.000000</td>\n",
              "    </tr>\n",
              "  </tbody>\n",
              "</table>\n",
              "</div>\n",
              "      <button class=\"colab-df-convert\" onclick=\"convertToInteractive('df-b4de8327-ac3e-44c0-9f9e-19d521c3a429')\"\n",
              "              title=\"Convert this dataframe to an interactive table.\"\n",
              "              style=\"display:none;\">\n",
              "        \n",
              "  <svg xmlns=\"http://www.w3.org/2000/svg\" height=\"24px\"viewBox=\"0 0 24 24\"\n",
              "       width=\"24px\">\n",
              "    <path d=\"M0 0h24v24H0V0z\" fill=\"none\"/>\n",
              "    <path d=\"M18.56 5.44l.94 2.06.94-2.06 2.06-.94-2.06-.94-.94-2.06-.94 2.06-2.06.94zm-11 1L8.5 8.5l.94-2.06 2.06-.94-2.06-.94L8.5 2.5l-.94 2.06-2.06.94zm10 10l.94 2.06.94-2.06 2.06-.94-2.06-.94-.94-2.06-.94 2.06-2.06.94z\"/><path d=\"M17.41 7.96l-1.37-1.37c-.4-.4-.92-.59-1.43-.59-.52 0-1.04.2-1.43.59L10.3 9.45l-7.72 7.72c-.78.78-.78 2.05 0 2.83L4 21.41c.39.39.9.59 1.41.59.51 0 1.02-.2 1.41-.59l7.78-7.78 2.81-2.81c.8-.78.8-2.07 0-2.86zM5.41 20L4 18.59l7.72-7.72 1.47 1.35L5.41 20z\"/>\n",
              "  </svg>\n",
              "      </button>\n",
              "      \n",
              "  <style>\n",
              "    .colab-df-container {\n",
              "      display:flex;\n",
              "      flex-wrap:wrap;\n",
              "      gap: 12px;\n",
              "    }\n",
              "\n",
              "    .colab-df-convert {\n",
              "      background-color: #E8F0FE;\n",
              "      border: none;\n",
              "      border-radius: 50%;\n",
              "      cursor: pointer;\n",
              "      display: none;\n",
              "      fill: #1967D2;\n",
              "      height: 32px;\n",
              "      padding: 0 0 0 0;\n",
              "      width: 32px;\n",
              "    }\n",
              "\n",
              "    .colab-df-convert:hover {\n",
              "      background-color: #E2EBFA;\n",
              "      box-shadow: 0px 1px 2px rgba(60, 64, 67, 0.3), 0px 1px 3px 1px rgba(60, 64, 67, 0.15);\n",
              "      fill: #174EA6;\n",
              "    }\n",
              "\n",
              "    [theme=dark] .colab-df-convert {\n",
              "      background-color: #3B4455;\n",
              "      fill: #D2E3FC;\n",
              "    }\n",
              "\n",
              "    [theme=dark] .colab-df-convert:hover {\n",
              "      background-color: #434B5C;\n",
              "      box-shadow: 0px 1px 3px 1px rgba(0, 0, 0, 0.15);\n",
              "      filter: drop-shadow(0px 1px 2px rgba(0, 0, 0, 0.3));\n",
              "      fill: #FFFFFF;\n",
              "    }\n",
              "  </style>\n",
              "\n",
              "      <script>\n",
              "        const buttonEl =\n",
              "          document.querySelector('#df-b4de8327-ac3e-44c0-9f9e-19d521c3a429 button.colab-df-convert');\n",
              "        buttonEl.style.display =\n",
              "          google.colab.kernel.accessAllowed ? 'block' : 'none';\n",
              "\n",
              "        async function convertToInteractive(key) {\n",
              "          const element = document.querySelector('#df-b4de8327-ac3e-44c0-9f9e-19d521c3a429');\n",
              "          const dataTable =\n",
              "            await google.colab.kernel.invokeFunction('convertToInteractive',\n",
              "                                                     [key], {});\n",
              "          if (!dataTable) return;\n",
              "\n",
              "          const docLinkHtml = 'Like what you see? Visit the ' +\n",
              "            '<a target=\"_blank\" href=https://colab.research.google.com/notebooks/data_table.ipynb>data table notebook</a>'\n",
              "            + ' to learn more about interactive tables.';\n",
              "          element.innerHTML = '';\n",
              "          dataTable['output_type'] = 'display_data';\n",
              "          await google.colab.output.renderOutput(dataTable, element);\n",
              "          const docLink = document.createElement('div');\n",
              "          docLink.innerHTML = docLinkHtml;\n",
              "          element.appendChild(docLink);\n",
              "        }\n",
              "      </script>\n",
              "    </div>\n",
              "  </div>\n",
              "  "
            ]
          },
          "metadata": {},
          "execution_count": 9
        }
      ]
    },
    {
      "cell_type": "code",
      "source": [
        "import seaborn as sn\n",
        "import matplotlib.pyplot as plt\n",
        "# Then, add the following syntax at the bottom of the code:\n",
        "\n",
        "sn.heatmap(corr_mat, annot=True)\n",
        "plt.show()"
      ],
      "metadata": {
        "colab": {
          "base_uri": "https://localhost:8080/",
          "height": 269
        },
        "id": "X2wnUVjTAGKT",
        "outputId": "062cd9af-cd65-47c6-d366-7980f7f33230"
      },
      "execution_count": 10,
      "outputs": [
        {
          "output_type": "display_data",
          "data": {
            "text/plain": [
              "<Figure size 432x288 with 2 Axes>"
            ],
            "image/png": "[encoded data removed]"
          },
          "metadata": {
            "needs_background": "light"
          }
        }
      ]
    },
    {
      "cell_type": "code",
      "source": [
        "np.random.seed(123)\n",
        "df1=pd.DataFrame( np.random.randn(3,2), columns=list('ab') )\n",
        "df2=pd.DataFrame( np.random.randn(3,2), columns=list('ac') )\n",
        "\n",
        "\n",
        "corr_mat = df1.corr()\n",
        "sn.heatmap(corr_mat, annot=True)\n",
        "plt.show()"
      ],
      "metadata": {
        "colab": {
          "base_uri": "https://localhost:8080/",
          "height": 269
        },
        "id": "w3eOCrGQ-qE7",
        "outputId": "7b4dcd79-1ed2-421e-b0a7-2f52ebcbe399"
      },
      "execution_count": 11,
      "outputs": [
        {
          "output_type": "display_data",
          "data": {
            "text/plain": [
              "<Figure size 432x288 with 2 Axes>"
            ],
            "image/png": "[encoded data removed]"
          },
          "metadata": {
            "needs_background": "light"
          }
        }
      ]
    },
    {
      "cell_type": "code",
      "source": [
        "# You can compare columns of df1 & df2 with corrwith. Note that only columns with the same names are compared:\n",
        "\n",
        "df1.corrwith(df2)"
      ],
      "metadata": {
        "colab": {
          "base_uri": "https://localhost:8080/"
        },
        "id": "uyAalfM9_Yso",
        "outputId": "2978cf7e-fa4f-4041-bbb9-97e441d749f5"
      },
      "execution_count": 12,
      "outputs": [
        {
          "output_type": "execute_result",
          "data": {
            "text/plain": [
              "a    0.993085\n",
              "b         NaN\n",
              "c         NaN\n",
              "dtype: float64"
            ]
          },
          "metadata": {},
          "execution_count": 12
        }
      ]
    },
    {
      "cell_type": "code",
      "source": [
        "df1.corrwith(df2.set_axis( df1.columns, axis='columns', inplace=False))"
      ],
      "metadata": {
        "colab": {
          "base_uri": "https://localhost:8080/"
        },
        "id": "jf3QP48Q_gLs",
        "outputId": "be67effb-e3d5-49aa-e13d-efe0085cfd3e"
      },
      "execution_count": 13,
      "outputs": [
        {
          "output_type": "execute_result",
          "data": {
            "text/plain": [
              "a    0.993085\n",
              "b    0.969220\n",
              "dtype: float64"
            ]
          },
          "metadata": {},
          "execution_count": 13
        }
      ]
    },
    {
      "cell_type": "code",
      "source": [
        "corr_mat = pd.concat([df1,df2],axis=1).corr()\n",
        "sn.heatmap(corr_mat, annot=True)\n",
        "plt.show()"
      ],
      "metadata": {
        "colab": {
          "base_uri": "https://localhost:8080/",
          "height": 269
        },
        "id": "SG9-B6D0_kLQ",
        "outputId": "2bcc4825-aaee-469f-d761-5bfc14130ac4"
      },
      "execution_count": 14,
      "outputs": [
        {
          "output_type": "display_data",
          "data": {
            "text/plain": [
              "<Figure size 432x288 with 2 Axes>"
            ],
            "image/png": "[encoded data removed]"
          },
          "metadata": {
            "needs_background": "light"
          }
        }
      ]
    },
    {
      "cell_type": "code",
      "source": [
        "import random\n",
        "import numpy as np\n",
        "import pandas as pd\n",
        "\n",
        "ds = pd.DataFrame(columns = ['x','y'])\n",
        "ds['x'] = [int(n>500) for n in random.sample(range(0, 1000), 100)]\n",
        "ds['y'] = [int(n<500) for n in random.sample(range(0, 1000), 100)]\n",
        "ds.head()"
      ],
      "metadata": {
        "colab": {
          "base_uri": "https://localhost:8080/",
          "height": 206
        },
        "id": "XqjFhAKCj4_2",
        "outputId": "5504dd1c-d01e-42d8-af65-950d233097f8"
      },
      "execution_count": 40,
      "outputs": [
        {
          "output_type": "execute_result",
          "data": {
            "text/plain": [
              "   x  y\n",
              "0  0  0\n",
              "1  0  1\n",
              "2  1  0\n",
              "3  0  1\n",
              "4  1  0"
            ],
            "text/html": [
              "\n",
              "  <div id=\"df-55805ce1-3d51-416b-b49a-cd9d4e828bec\">\n",
              "    <div class=\"colab-df-container\">\n",
              "      <div>\n",
              "<style scoped>\n",
              "    .dataframe tbody tr th:only-of-type {\n",
              "        vertical-align: middle;\n",
              "    }\n",
              "\n",
              "    .dataframe tbody tr th {\n",
              "        vertical-align: top;\n",
              "    }\n",
              "\n",
              "    .dataframe thead th {\n",
              "        text-align: right;\n",
              "    }\n",
              "</style>\n",
              "<table border=\"1\" class=\"dataframe\">\n",
              "  <thead>\n",
              "    <tr style=\"text-align: right;\">\n",
              "      <th></th>\n",
              "      <th>x</th>\n",
              "      <th>y</th>\n",
              "    </tr>\n",
              "  </thead>\n",
              "  <tbody>\n",
              "    <tr>\n",
              "      <th>0</th>\n",
              "      <td>0</td>\n",
              "      <td>0</td>\n",
              "    </tr>\n",
              "    <tr>\n",
              "      <th>1</th>\n",
              "      <td>0</td>\n",
              "      <td>1</td>\n",
              "    </tr>\n",
              "    <tr>\n",
              "      <th>2</th>\n",
              "      <td>1</td>\n",
              "      <td>0</td>\n",
              "    </tr>\n",
              "    <tr>\n",
              "      <th>3</th>\n",
              "      <td>0</td>\n",
              "      <td>1</td>\n",
              "    </tr>\n",
              "    <tr>\n",
              "      <th>4</th>\n",
              "      <td>1</td>\n",
              "      <td>0</td>\n",
              "    </tr>\n",
              "  </tbody>\n",
              "</table>\n",
              "</div>\n",
              "      <button class=\"colab-df-convert\" onclick=\"convertToInteractive('df-55805ce1-3d51-416b-b49a-cd9d4e828bec')\"\n",
              "              title=\"Convert this dataframe to an interactive table.\"\n",
              "              style=\"display:none;\">\n",
              "        \n",
              "  <svg xmlns=\"http://www.w3.org/2000/svg\" height=\"24px\"viewBox=\"0 0 24 24\"\n",
              "       width=\"24px\">\n",
              "    <path d=\"M0 0h24v24H0V0z\" fill=\"none\"/>\n",
              "    <path d=\"M18.56 5.44l.94 2.06.94-2.06 2.06-.94-2.06-.94-.94-2.06-.94 2.06-2.06.94zm-11 1L8.5 8.5l.94-2.06 2.06-.94-2.06-.94L8.5 2.5l-.94 2.06-2.06.94zm10 10l.94 2.06.94-2.06 2.06-.94-2.06-.94-.94-2.06-.94 2.06-2.06.94z\"/><path d=\"M17.41 7.96l-1.37-1.37c-.4-.4-.92-.59-1.43-.59-.52 0-1.04.2-1.43.59L10.3 9.45l-7.72 7.72c-.78.78-.78 2.05 0 2.83L4 21.41c.39.39.9.59 1.41.59.51 0 1.02-.2 1.41-.59l7.78-7.78 2.81-2.81c.8-.78.8-2.07 0-2.86zM5.41 20L4 18.59l7.72-7.72 1.47 1.35L5.41 20z\"/>\n",
              "  </svg>\n",
              "      </button>\n",
              "      \n",
              "  <style>\n",
              "    .colab-df-container {\n",
              "      display:flex;\n",
              "      flex-wrap:wrap;\n",
              "      gap: 12px;\n",
              "    }\n",
              "\n",
              "    .colab-df-convert {\n",
              "      background-color: #E8F0FE;\n",
              "      border: none;\n",
              "      border-radius: 50%;\n",
              "      cursor: pointer;\n",
              "      display: none;\n",
              "      fill: #1967D2;\n",
              "      height: 32px;\n",
              "      padding: 0 0 0 0;\n",
              "      width: 32px;\n",
              "    }\n",
              "\n",
              "    .colab-df-convert:hover {\n",
              "      background-color: #E2EBFA;\n",
              "      box-shadow: 0px 1px 2px rgba(60, 64, 67, 0.3), 0px 1px 3px 1px rgba(60, 64, 67, 0.15);\n",
              "      fill: #174EA6;\n",
              "    }\n",
              "\n",
              "    [theme=dark] .colab-df-convert {\n",
              "      background-color: #3B4455;\n",
              "      fill: #D2E3FC;\n",
              "    }\n",
              "\n",
              "    [theme=dark] .colab-df-convert:hover {\n",
              "      background-color: #434B5C;\n",
              "      box-shadow: 0px 1px 3px 1px rgba(0, 0, 0, 0.15);\n",
              "      filter: drop-shadow(0px 1px 2px rgba(0, 0, 0, 0.3));\n",
              "      fill: #FFFFFF;\n",
              "    }\n",
              "  </style>\n",
              "\n",
              "      <script>\n",
              "        const buttonEl =\n",
              "          document.querySelector('#df-55805ce1-3d51-416b-b49a-cd9d4e828bec button.colab-df-convert');\n",
              "        buttonEl.style.display =\n",
              "          google.colab.kernel.accessAllowed ? 'block' : 'none';\n",
              "\n",
              "        async function convertToInteractive(key) {\n",
              "          const element = document.querySelector('#df-55805ce1-3d51-416b-b49a-cd9d4e828bec');\n",
              "          const dataTable =\n",
              "            await google.colab.kernel.invokeFunction('convertToInteractive',\n",
              "                                                     [key], {});\n",
              "          if (!dataTable) return;\n",
              "\n",
              "          const docLinkHtml = 'Like what you see? Visit the ' +\n",
              "            '<a target=\"_blank\" href=https://colab.research.google.com/notebooks/data_table.ipynb>data table notebook</a>'\n",
              "            + ' to learn more about interactive tables.';\n",
              "          element.innerHTML = '';\n",
              "          dataTable['output_type'] = 'display_data';\n",
              "          await google.colab.output.renderOutput(dataTable, element);\n",
              "          const docLink = document.createElement('div');\n",
              "          docLink.innerHTML = docLinkHtml;\n",
              "          element.appendChild(docLink);\n",
              "        }\n",
              "      </script>\n",
              "    </div>\n",
              "  </div>\n",
              "  "
            ]
          },
          "metadata": {},
          "execution_count": 40
        }
      ]
    },
    {
      "cell_type": "code",
      "source": [
        "base = ds[ds.x == 0]\n",
        "variant = ds[ds.x == 1]\n",
        "# We use the z-score value for .95 confidency of the normal interval\n",
        "delta = variant.y.mean() - base.y.mean()\n",
        "delta_err = 1.96 * np.sqrt(\n",
        "    variant.y.var() / variant.shape[0] + \n",
        "    base.y.var() / base.shape[0])\n",
        "\n",
        "print({\"estimated_effect\": delta, \"standard_error\": delta_err})"
      ],
      "metadata": {
        "colab": {
          "base_uri": "https://localhost:8080/"
        },
        "id": "N0mLzzqGi_us",
        "outputId": "ac304224-858e-4388-fdb2-439230cee3cd"
      },
      "execution_count": 41,
      "outputs": [
        {
          "output_type": "stream",
          "name": "stdout",
          "text": [
            "{'estimated_effect': -0.02101723413198825, 'standard_error': 0.20312418042730232}\n"
          ]
        }
      ]
    },
    {
      "cell_type": "code",
      "source": [],
      "metadata": {
        "id": "Ld0hxR4ijJGs"
      },
      "execution_count": 41,
      "outputs": []
    },
    {
      "cell_type": "code",
      "source": [
        "base = ds[ds.x == 0]\n",
        "variant = ds[ds.x == 1]\n",
        "# We use the z-score value for .95 confidency of the normal interval\n",
        "delta = variant.y.mean() - base.y.mean()\n",
        "delta_err = 1.96 * np.sqrt(\n",
        "    variant.y.var() / variant.shape[0] + \n",
        "    base.y.var() / base.shape[0])\n",
        "\n",
        "print({\"estimated_effect\": delta, \"standard_error\": delta_err})"
      ],
      "metadata": {
        "colab": {
          "base_uri": "https://localhost:8080/"
        },
        "id": "l_1jE3xVVtfT",
        "outputId": "fc36f187-e356-48cf-c558-b376b8868abe"
      },
      "execution_count": 42,
      "outputs": [
        {
          "output_type": "stream",
          "name": "stdout",
          "text": [
            "{'estimated_effect': -0.02101723413198825, 'standard_error': 0.20312418042730232}\n"
          ]
        }
      ]
    },
    {
      "cell_type": "code",
      "source": [
        "from scipy.stats import chi2_contingency\n",
        "\n",
        "contingency_table = (\n",
        "    ds\n",
        "    .assign(placeholder=1)\n",
        "    .pivot_table(index=\"x\", columns=\"y\", values=\"placeholder\", aggfunc=\"sum\")\n",
        "    .values\n",
        ")\n",
        "\n",
        "_, p, _, _ = chi2_contingency(contingency_table, lambda_=\"log-likelihood\")\n",
        "\n",
        "print(\"P-value:\",p)"
      ],
      "metadata": {
        "colab": {
          "base_uri": "https://localhost:8080/"
        },
        "id": "iVZi3m3yPYA8",
        "outputId": "edf939df-238a-4c51-dc32-c45fa917c856"
      },
      "execution_count": 44,
      "outputs": [
        {
          "output_type": "stream",
          "name": "stdout",
          "text": [
            "P-value: 1.0\n"
          ]
        }
      ]
    },
    {
      "cell_type": "code",
      "source": [
        "observed_data_1 = pd.read_csv('observed_data_1.csv' )\n",
        "\n",
        "observed_data_1.plot.scatter(x=\"z\", y=\"y\", c=\"x\", cmap=\"rainbow\", colorbar=False);"
      ],
      "metadata": {
        "colab": {
          "base_uri": "https://localhost:8080/",
          "height": 279
        },
        "id": "k-YAXMkBQDY5",
        "outputId": "e52b2718-31c8-4ca7-e580-5430e74c24ff"
      },
      "execution_count": null,
      "outputs": [
        {
          "output_type": "display_data",
          "data": {
            "text/plain": [
              "<Figure size 432x288 with 1 Axes>"
            ],
            "image/png": "[encoded data removed]"
          },
          "metadata": {
            "needs_background": "light"
          }
        }
      ]
    },
    {
      "cell_type": "code",
      "source": [
        "import seaborn as sns\n",
        "\n",
        "sns.kdeplot(observed_data_1.loc[lambda df: df.x == 0].y, label=\"untreated\")\n",
        "sns.kdeplot(observed_data_1.loc[lambda df: df.x == 1].y, label=\"treated\")"
      ],
      "metadata": {
        "colab": {
          "base_uri": "https://localhost:8080/",
          "height": 296
        },
        "id": "-Vhl_tPbQHaf",
        "outputId": "97305f7a-ab39-4c45-f493-985fac5aaaf3"
      },
      "execution_count": null,
      "outputs": [
        {
          "output_type": "execute_result",
          "data": {
            "text/plain": [
              "<matplotlib.axes._subplots.AxesSubplot at 0x7fe063777290>"
            ]
          },
          "metadata": {},
          "execution_count": 35
        },
        {
          "output_type": "display_data",
          "data": {
            "text/plain": [
              "<Figure size 432x288 with 1 Axes>"
            ],
            "image/png": "[encoded data removed]"
          },
          "metadata": {
            "needs_background": "light"
          }
        }
      ]
    },
    {
      "cell_type": "code",
      "source": [
        "!pip install causalinference"
      ],
      "metadata": {
        "colab": {
          "base_uri": "https://localhost:8080/"
        },
        "id": "JPqflSsQQdS8",
        "outputId": "8e316f99-7a9e-4c86-9100-98ff4c3ba9a2"
      },
      "execution_count": null,
      "outputs": [
        {
          "output_type": "stream",
          "name": "stdout",
          "text": [
            "Looking in indexes: https://pypi.org/simple, https://us-python.pkg.dev/colab-wheels/public/simple/\n",
            "Collecting causalinference\n",
            "  Downloading CausalInference-0.1.3-py3-none-any.whl (51 kB)\n",
            "\u001b[K     |████████████████████████████████| 51 kB 3.5 MB/s \n",
            "\u001b[?25hInstalling collected packages: causalinference\n",
            "Successfully installed causalinference-0.1.3\n"
          ]
        }
      ]
    },
    {
      "cell_type": "code",
      "source": [
        "from causalinference import CausalModel\n",
        "\n",
        "cm = CausalModel(\n",
        "    Y=observed_data_1.y.values, \n",
        "    D=observed_data_1.x.values, \n",
        "    X=observed_data_1.z.values)\n",
        "\n",
        "cm.est_via_ols(adj=1)\n",
        "\n",
        "print(cm.estimates)"
      ],
      "metadata": {
        "colab": {
          "base_uri": "https://localhost:8080/"
        },
        "id": "TfT-DjmZQcRy",
        "outputId": "30945d01-2613-4032-f5e3-4261d968a4f8"
      },
      "execution_count": null,
      "outputs": [
        {
          "output_type": "stream",
          "name": "stdout",
          "text": [
            "\n",
            "Treatment Effect Estimates: OLS\n",
            "\n",
            "                     Est.       S.e.          z      P>|z|      [95% Conf. int.]\n",
            "--------------------------------------------------------------------------------\n",
            "           ATE     -0.483      0.032    -14.993      0.000     -0.546     -0.420\n",
            "\n"
          ]
        },
        {
          "output_type": "stream",
          "name": "stderr",
          "text": [
            "/usr/local/lib/python3.7/dist-packages/causalinference/estimators/ols.py:21: FutureWarning: `rcond` parameter will change to the default of machine precision times ``max(M, N)`` where M and N are the input matrix dimensions.\n",
            "To use the future default and silence this warning we advise to pass `rcond=None`, to keep using the old, explicitly pass `rcond=-1`.\n",
            "  olscoef = np.linalg.lstsq(Z, Y)[0]\n"
          ]
        }
      ]
    },
    {
      "cell_type": "code",
      "source": [],
      "metadata": {
        "id": "x7mnMpdzMJF8"
      },
      "execution_count": null,
      "outputs": []
    },
    {
      "cell_type": "code",
      "source": [
        "observed_data_2 = pd.read_csv('observed_data_2.csv')\n",
        "\n",
        "observed_data_2.plot.scatter(x=\"z\", y=\"y\", c=\"x\", cmap=\"rainbow\", colorbar=False)"
      ],
      "metadata": {
        "colab": {
          "base_uri": "https://localhost:8080/",
          "height": 296
        },
        "id": "ypF-EhXkQkvQ",
        "outputId": "168e2e3c-6f52-4ebd-9957-7dc9e29498f0"
      },
      "execution_count": null,
      "outputs": [
        {
          "output_type": "execute_result",
          "data": {
            "text/plain": [
              "<matplotlib.axes._subplots.AxesSubplot at 0x7fe062fa6750>"
            ]
          },
          "metadata": {},
          "execution_count": 41
        },
        {
          "output_type": "display_data",
          "data": {
            "text/plain": [
              "<Figure size 432x288 with 1 Axes>"
            ],
            "image/png": "[encoded data removed]"
          },
          "metadata": {
            "needs_background": "light"
          }
        }
      ]
    },
    {
      "cell_type": "code",
      "source": [
        "cm = CausalModel(\n",
        "    Y=observed_data_2.y.values, \n",
        "    D=observed_data_2.x.values, \n",
        "    X=observed_data_2.z.values)\n",
        "\n",
        "cm.est_via_ols(adj=1)\n",
        "\n",
        "print(cm.estimates)"
      ],
      "metadata": {
        "colab": {
          "base_uri": "https://localhost:8080/"
        },
        "id": "nlEMxZ87QsCd",
        "outputId": "de76c868-1ab0-47b8-ed79-d3b51f7d8205"
      },
      "execution_count": null,
      "outputs": [
        {
          "output_type": "stream",
          "name": "stdout",
          "text": [
            "\n",
            "Treatment Effect Estimates: OLS\n",
            "\n",
            "                     Est.       S.e.          z      P>|z|      [95% Conf. int.]\n",
            "--------------------------------------------------------------------------------\n",
            "           ATE      0.472      0.090      5.236      0.000      0.295      0.648\n",
            "\n"
          ]
        },
        {
          "output_type": "stream",
          "name": "stderr",
          "text": [
            "/usr/local/lib/python3.7/dist-packages/causalinference/estimators/ols.py:21: FutureWarning: `rcond` parameter will change to the default of machine precision times ``max(M, N)`` where M and N are the input matrix dimensions.\n",
            "To use the future default and silence this warning we advise to pass `rcond=None`, to keep using the old, explicitly pass `rcond=-1`.\n",
            "  olscoef = np.linalg.lstsq(Z, Y)[0]\n"
          ]
        }
      ]
    },
    {
      "cell_type": "code",
      "source": [
        "from sklearn import preprocessing\n",
        "x_train = pd.DataFrame([[ 1., -1.,  2.],\n",
        "                    [ 2.,  0.,  0.],\n",
        "                    [ 0.,  1., -1.]],columns=['x','y','z'])\n",
        "scaler = preprocessing.StandardScaler().fit(x_train)\n",
        "scaler.mean_"
      ],
      "metadata": {
        "id": "9vV-DffxRaGg",
        "colab": {
          "base_uri": "https://localhost:8080/"
        },
        "outputId": "38b5f91d-c27f-4c74-e6a5-7787aa54977c"
      },
      "execution_count": null,
      "outputs": [
        {
          "output_type": "execute_result",
          "data": {
            "text/plain": [
              "array([1.        , 0.        , 0.33333333])"
            ]
          },
          "metadata": {},
          "execution_count": 47
        }
      ]
    },
    {
      "cell_type": "code",
      "source": [
        "scaler.scale_"
      ],
      "metadata": {
        "colab": {
          "base_uri": "https://localhost:8080/"
        },
        "id": "dYwR8BazOx3J",
        "outputId": "f6bcc834-97a5-4bd8-a241-21499442df9c"
      },
      "execution_count": null,
      "outputs": [
        {
          "output_type": "execute_result",
          "data": {
            "text/plain": [
              "array([0.81649658, 0.81649658, 1.24721913])"
            ]
          },
          "metadata": {},
          "execution_count": 48
        }
      ]
    },
    {
      "cell_type": "code",
      "source": [
        "x_scaled = scaler.transform(x_train)\n",
        "x_scaled"
      ],
      "metadata": {
        "colab": {
          "base_uri": "https://localhost:8080/"
        },
        "id": "_bOUJShFOskG",
        "outputId": "8ac53fbc-ee42-4c32-81cf-8acd9d60e957"
      },
      "execution_count": null,
      "outputs": [
        {
          "output_type": "execute_result",
          "data": {
            "text/plain": [
              "array([[ 0.        , -1.22474487,  1.33630621],\n",
              "       [ 1.22474487,  0.        , -0.26726124],\n",
              "       [-1.22474487,  1.22474487, -1.06904497]])"
            ]
          },
          "metadata": {},
          "execution_count": 50
        }
      ]
    },
    {
      "cell_type": "code",
      "source": [
        "from sklearn.datasets import load_iris\n",
        "data = load_iris()\n",
        "x, y = data['data'],data['target']\n",
        "quantile_transformer = preprocessing.QuantileTransformer(n_quantiles=5)\n",
        "x_train_qt = quantile_transformer.fit_transform(x)\n",
        "x_train_qt[:5]"
      ],
      "metadata": {
        "colab": {
          "base_uri": "https://localhost:8080/"
        },
        "id": "7qUlMQCMPaHK",
        "outputId": "c228c718-b156-4230-9b1a-a6e9d79e53c3"
      },
      "execution_count": null,
      "outputs": [
        {
          "output_type": "execute_result",
          "data": {
            "text/plain": [
              "array([[0.25      , 0.79545455, 0.16666667, 0.125     ],\n",
              "       [0.1875    , 0.5       , 0.16666667, 0.125     ],\n",
              "       [0.125     , 0.66666667, 0.125     , 0.125     ],\n",
              "       [0.09375   , 0.58333333, 0.20833333, 0.125     ],\n",
              "       [0.21875   , 0.81818182, 0.16666667, 0.125     ]])"
            ]
          },
          "metadata": {},
          "execution_count": 114
        }
      ]
    },
    {
      "cell_type": "code",
      "source": [
        "set(y)"
      ],
      "metadata": {
        "colab": {
          "base_uri": "https://localhost:8080/"
        },
        "id": "nX26AdE3SDo2",
        "outputId": "e41f06f3-6acf-4984-d1c2-bbd1c2540068"
      },
      "execution_count": null,
      "outputs": [
        {
          "output_type": "execute_result",
          "data": {
            "text/plain": [
              "{0, 1, 2}"
            ]
          },
          "metadata": {},
          "execution_count": 119
        }
      ]
    },
    {
      "cell_type": "code",
      "source": [
        "from sklearn.cluster import KMeans\n",
        "\n",
        "kmeans = KMeans(n_clusters=len(set(y)), random_state=0).fit(x)\n",
        "kmeans.labels_"
      ],
      "metadata": {
        "colab": {
          "base_uri": "https://localhost:8080/"
        },
        "id": "DWCWrLh5R3Lt",
        "outputId": "cff7ca66-d5ab-41b4-efb3-3be39421df08"
      },
      "execution_count": null,
      "outputs": [
        {
          "output_type": "execute_result",
          "data": {
            "text/plain": [
              "array([5, 7, 7, ..., 7, 3, 3], dtype=int32)"
            ]
          },
          "metadata": {},
          "execution_count": 197
        }
      ]
    },
    {
      "cell_type": "code",
      "source": [
        "kmeans.predict(x[0].reshape(1,-1))"
      ],
      "metadata": {
        "colab": {
          "base_uri": "https://localhost:8080/"
        },
        "id": "Uw3MXuE1SQCD",
        "outputId": "074b979e-79bf-4b94-ff71-50f30c935b6f"
      },
      "execution_count": null,
      "outputs": [
        {
          "output_type": "execute_result",
          "data": {
            "text/plain": [
              "array([1], dtype=int32)"
            ]
          },
          "metadata": {},
          "execution_count": 121
        }
      ]
    },
    {
      "cell_type": "code",
      "source": [
        "kmeans.cluster_centers_"
      ],
      "metadata": {
        "colab": {
          "base_uri": "https://localhost:8080/"
        },
        "id": "iaf90aIyomaM",
        "outputId": "80631d2b-49d8-4fd3-a8bf-81f3d0476851"
      },
      "execution_count": null,
      "outputs": [
        {
          "output_type": "execute_result",
          "data": {
            "text/plain": [
              "array([[5.9016129 , 2.7483871 , 4.39354839, 1.43387097],\n",
              "       [5.006     , 3.428     , 1.462     , 0.246     ],\n",
              "       [6.85      , 3.07368421, 5.74210526, 2.07105263]])"
            ]
          },
          "metadata": {},
          "execution_count": 122
        }
      ]
    },
    {
      "cell_type": "code",
      "source": [
        "from sklearn.decomposition import PCA\n",
        "pca = PCA(n_components=2)\n",
        "pca.fit(x)"
      ],
      "metadata": {
        "id": "JcPi76BzRbyL",
        "colab": {
          "base_uri": "https://localhost:8080/"
        },
        "outputId": "5365e06e-24f2-42cb-86aa-dfecda4bfd43"
      },
      "execution_count": null,
      "outputs": [
        {
          "output_type": "execute_result",
          "data": {
            "text/plain": [
              "PCA(n_components=2)"
            ]
          },
          "metadata": {},
          "execution_count": 126
        }
      ]
    },
    {
      "cell_type": "code",
      "source": [
        "print(pca.explained_variance_ratio_)\n",
        "print(pca.singular_values_)"
      ],
      "metadata": {
        "colab": {
          "base_uri": "https://localhost:8080/"
        },
        "id": "yJU8E1vUUYYG",
        "outputId": "4dd2d84e-f53f-43ff-f705-7a0d2b707429"
      },
      "execution_count": null,
      "outputs": [
        {
          "output_type": "stream",
          "name": "stdout",
          "text": [
            "[0.92461872 0.05306648]\n",
            "[25.09996044  6.01314738]\n"
          ]
        }
      ]
    },
    {
      "cell_type": "code",
      "source": [
        "pca = PCA(n_components=2, svd_solver='full')\n",
        "pca.fit(x)\n",
        "print(pca.explained_variance_ratio_)\n",
        "print(pca.singular_values_)"
      ],
      "metadata": {
        "colab": {
          "base_uri": "https://localhost:8080/"
        },
        "id": "oYlQIZ18Chfg",
        "outputId": "a3fa8858-8097-4ff2-edf1-7f13ffb252c7"
      },
      "execution_count": null,
      "outputs": [
        {
          "output_type": "stream",
          "name": "stdout",
          "text": [
            "[0.92461872 0.05306648]\n",
            "[25.09996044  6.01314738]\n"
          ]
        }
      ]
    },
    {
      "cell_type": "code",
      "source": [
        "pca = PCA(n_components=2, svd_solver='arpack')\n",
        "pca.fit(x)\n",
        "print(pca.explained_variance_ratio_)\n",
        "print(pca.singular_values_)"
      ],
      "metadata": {
        "id": "gnCPmoIHRbvn",
        "colab": {
          "base_uri": "https://localhost:8080/"
        },
        "outputId": "f191d0ac-b28b-475c-cb6d-c1fd0c23188c"
      },
      "execution_count": null,
      "outputs": [
        {
          "output_type": "stream",
          "name": "stdout",
          "text": [
            "[0.92461872 0.05306648]\n",
            "[25.09996044  6.01314738]\n"
          ]
        }
      ]
    },
    {
      "cell_type": "code",
      "source": [
        "from sklearn.decomposition import FactorAnalysis\n",
        "\n",
        "transformer = FactorAnalysis(n_components=3, random_state=0)\n",
        "X_transformed = transformer.fit_transform(x)\n",
        "X_transformed.shape"
      ],
      "metadata": {
        "id": "u1UFdvOFRcX7",
        "colab": {
          "base_uri": "https://localhost:8080/"
        },
        "outputId": "ffd0fe91-37dc-4f5d-9b27-b87c1f0cc9d7"
      },
      "execution_count": null,
      "outputs": [
        {
          "output_type": "execute_result",
          "data": {
            "text/plain": [
              "(150, 3)"
            ]
          },
          "metadata": {},
          "execution_count": 132
        }
      ]
    },
    {
      "cell_type": "code",
      "source": [
        "X_transformed[:5]"
      ],
      "metadata": {
        "colab": {
          "base_uri": "https://localhost:8080/"
        },
        "id": "5QOir6uqVgnG",
        "outputId": "12890731-5045-402b-f300-ed48367ca1bc"
      },
      "execution_count": null,
      "outputs": [
        {
          "output_type": "execute_result",
          "data": {
            "text/plain": [
              "array([[-1.31657584,  0.58376734, -0.0133159 ],\n",
              "       [-1.3265123 , -0.33859389, -0.40743948],\n",
              "       [-1.39569205, -0.29783617,  0.1118703 ],\n",
              "       [-1.33013843, -0.61005254, -0.01994807],\n",
              "       [-1.33237482,  0.59118075,  0.21687299]])"
            ]
          },
          "metadata": {},
          "execution_count": 133
        }
      ]
    },
    {
      "cell_type": "code",
      "source": [
        "transformer.components_"
      ],
      "metadata": {
        "colab": {
          "base_uri": "https://localhost:8080/"
        },
        "id": "kJb0mkJFVmzN",
        "outputId": "c62eaaee-2686-40ca-e287-8b0dd682959b"
      },
      "execution_count": null,
      "outputs": [
        {
          "output_type": "execute_result",
          "data": {
            "text/plain": [
              "array([[ 0.72893087, -0.17322406,  1.74931358,  0.73867062],\n",
              "       [ 0.31265825,  0.32292186, -0.05200657, -0.03157985],\n",
              "       [-0.12417064,  0.13678138, -0.054908  ,  0.12603481]])"
            ]
          },
          "metadata": {},
          "execution_count": 134
        }
      ]
    },
    {
      "cell_type": "code",
      "source": [
        "fig, ax = plt.subplots(figsize=(10,10))\n",
        "feature_names = data[\"feature_names\"]\n",
        "components = transformer.components_\n",
        "\n",
        "vmax = np.abs(components).max()\n",
        "ax.imshow(components, cmap=\"RdBu_r\", vmax=vmax, vmin=-vmax)\n",
        "ax.set_yticks(np.arange(len(feature_names)))\n",
        "if ax.is_first_col():\n",
        "    ax.set_yticklabels(feature_names)\n",
        "else:\n",
        "    ax.set_yticklabels([])\n",
        "ax.set_xticks([0, 1])\n",
        "ax.set_xticklabels([\"Comp. 1\", \"Comp. 2\", \"Comp. 3\"])\n",
        "fig.suptitle(\"Factors\")\n",
        "plt.tight_layout()\n",
        "plt.show()"
      ],
      "metadata": {
        "colab": {
          "base_uri": "https://localhost:8080/",
          "height": 658
        },
        "id": "PCwIu-cJYmjh",
        "outputId": "7742c8b2-1d90-4591-d208-e4ecc34768c3"
      },
      "execution_count": null,
      "outputs": [
        {
          "output_type": "display_data",
          "data": {
            "text/plain": [
              "<Figure size 720x720 with 1 Axes>"
            ],
            "image/png": "[encoded data removed]"
          },
          "metadata": {
            "needs_background": "light"
          }
        }
      ]
    },
    {
      "cell_type": "code",
      "source": [
        "# linear regression, logistic regression"
      ],
      "metadata": {
        "id": "-6MiC2qB5MZ7"
      },
      "execution_count": null,
      "outputs": []
    },
    {
      "cell_type": "code",
      "source": [
        "from sklearn.datasets import load_diabetes\n",
        "data_reg = load_diabetes()\n",
        "data_reg.keys()"
      ],
      "metadata": {
        "colab": {
          "base_uri": "https://localhost:8080/"
        },
        "id": "ce6uppKpZooU",
        "outputId": "b81ec2c9-0729-4f72-d7ae-002ff0b63037"
      },
      "execution_count": null,
      "outputs": [
        {
          "output_type": "execute_result",
          "data": {
            "text/plain": [
              "dict_keys(['data', 'target', 'frame', 'DESCR', 'feature_names', 'data_filename', 'target_filename', 'data_module'])"
            ]
          },
          "metadata": {},
          "execution_count": 142
        }
      ]
    },
    {
      "cell_type": "code",
      "source": [
        "\n",
        "from sklearn.linear_model import LinearRegression\n",
        "\n",
        "x,y = data_reg['data'],data_reg['target']\n",
        "reg = LinearRegression().fit(x, y)\n",
        "reg.score(x, y)"
      ],
      "metadata": {
        "colab": {
          "base_uri": "https://localhost:8080/"
        },
        "id": "WuSOG34waj5z",
        "outputId": "e8b50304-c137-41a7-ab58-64a5d1c5ea2f"
      },
      "execution_count": null,
      "outputs": [
        {
          "output_type": "execute_result",
          "data": {
            "text/plain": [
              "0.5177494254132934"
            ]
          },
          "metadata": {},
          "execution_count": 143
        }
      ]
    },
    {
      "cell_type": "code",
      "source": [
        "reg.coef_"
      ],
      "metadata": {
        "colab": {
          "base_uri": "https://localhost:8080/"
        },
        "id": "o3PH46WWamid",
        "outputId": "7f9e467f-5593-4a14-9df1-bc545db39b2f"
      },
      "execution_count": null,
      "outputs": [
        {
          "output_type": "execute_result",
          "data": {
            "text/plain": [
              "array([ -10.01219782, -239.81908937,  519.83978679,  324.39042769,\n",
              "       -792.18416163,  476.74583782,  101.04457032,  177.06417623,\n",
              "        751.27932109,   67.62538639])"
            ]
          },
          "metadata": {},
          "execution_count": 144
        }
      ]
    },
    {
      "cell_type": "code",
      "source": [
        "reg.intercept_"
      ],
      "metadata": {
        "colab": {
          "base_uri": "https://localhost:8080/"
        },
        "id": "wh6VnnoYapCS",
        "outputId": "bc5e3775-2140-4079-8188-1ea61eadbca4"
      },
      "execution_count": null,
      "outputs": [
        {
          "output_type": "execute_result",
          "data": {
            "text/plain": [
              "152.1334841628965"
            ]
          },
          "metadata": {},
          "execution_count": 145
        }
      ]
    },
    {
      "cell_type": "code",
      "source": [
        "print('Predicted:',reg.predict(x[10].reshape(1,-1)),'Actual:',y[10])"
      ],
      "metadata": {
        "id": "twEWl_ZIRdEe",
        "colab": {
          "base_uri": "https://localhost:8080/"
        },
        "outputId": "391a5526-8c6e-46f7-dbf9-9ccb043dfd69"
      },
      "execution_count": null,
      "outputs": [
        {
          "output_type": "stream",
          "name": "stdout",
          "text": [
            "Predicted: [97.07853583] Actual: 101.0\n"
          ]
        }
      ]
    },
    {
      "cell_type": "code",
      "source": [
        "# Logistic Regression (aka logit, MaxEnt) classifier."
      ],
      "metadata": {
        "id": "CW0qss9adkiu"
      },
      "execution_count": null,
      "outputs": []
    },
    {
      "cell_type": "code",
      "source": [
        "from sklearn.datasets import load_digits\n",
        "data_class = load_digits()\n",
        "data_class.keys()"
      ],
      "metadata": {
        "colab": {
          "base_uri": "https://localhost:8080/"
        },
        "id": "RkcPRRusda9s",
        "outputId": "5d3571b8-81d5-426a-9f8f-e16a9f6d3978"
      },
      "execution_count": null,
      "outputs": [
        {
          "output_type": "execute_result",
          "data": {
            "text/plain": [
              "dict_keys(['data', 'target', 'frame', 'feature_names', 'target_names', 'images', 'DESCR'])"
            ]
          },
          "metadata": {},
          "execution_count": 175
        }
      ]
    },
    {
      "cell_type": "code",
      "source": [
        "\n",
        "from sklearn.pipeline import make_pipeline\n",
        "from sklearn.preprocessing import StandardScaler\n",
        "from sklearn.linear_model import LogisticRegression\n",
        "x,y = data_class['data'],data_class['target']\n",
        "clf = make_pipeline(StandardScaler(), LogisticRegression(penalty='l2',C=.1))\n",
        "clf.fit(x, y)\n",
        "# clf = LogisticRegression(random_state=0,max_iter=1000).fit(x, y)\n",
        "clf.predict(x[:2, :])"
      ],
      "metadata": {
        "colab": {
          "base_uri": "https://localhost:8080/"
        },
        "id": "dyTsfHgfbTG0",
        "outputId": "f4d563e7-8638-43cb-cd35-9d3c7eeba987"
      },
      "execution_count": null,
      "outputs": [
        {
          "output_type": "execute_result",
          "data": {
            "text/plain": [
              "array([0, 1])"
            ]
          },
          "metadata": {},
          "execution_count": 183
        }
      ]
    },
    {
      "cell_type": "code",
      "source": [
        "clf.score(x, y)"
      ],
      "metadata": {
        "id": "Bie5jH1ARdCI",
        "colab": {
          "base_uri": "https://localhost:8080/"
        },
        "outputId": "0e0ee2ab-86dc-403c-a664-7338ab1869ec"
      },
      "execution_count": null,
      "outputs": [
        {
          "output_type": "execute_result",
          "data": {
            "text/plain": [
              "0.988313856427379"
            ]
          },
          "metadata": {},
          "execution_count": 184
        }
      ]
    },
    {
      "cell_type": "code",
      "source": [
        "# validate the model (metrics, train test, crossvalidation, )"
      ],
      "metadata": {
        "id": "UaT13uHN5ash"
      },
      "execution_count": null,
      "outputs": []
    },
    {
      "cell_type": "code",
      "source": [
        "x, y = load_iris(return_X_y=True)\n",
        "x.shape, y.shape"
      ],
      "metadata": {
        "id": "AApORKVZRkcU"
      },
      "execution_count": null,
      "outputs": []
    },
    {
      "cell_type": "code",
      "source": [
        "# We can now quickly sample a training set while holding out 40% of the data for testing (evaluating) our classifier:\n",
        "from sklearn.model_selection import train_test_split\n",
        "from sklearn import svm\n",
        "\n",
        "x_train, x_test, y_train, y_test = train_test_split(x, y, test_size=0.4, random_state=0)\n",
        "\n",
        "x_train.shape, y_train.shape"
      ],
      "metadata": {
        "colab": {
          "base_uri": "https://localhost:8080/"
        },
        "id": "3zlPElhnkPM8",
        "outputId": "7e5e9948-ded1-4d60-b048-5929292afb21"
      },
      "execution_count": null,
      "outputs": [
        {
          "output_type": "execute_result",
          "data": {
            "text/plain": [
              "((1078, 64), (1078,))"
            ]
          },
          "metadata": {},
          "execution_count": 188
        }
      ]
    },
    {
      "cell_type": "code",
      "source": [
        "x_test.shape, y_test.shape"
      ],
      "metadata": {
        "colab": {
          "base_uri": "https://localhost:8080/"
        },
        "id": "vNW9sBZIgGur",
        "outputId": "b8cbc497-cccd-4259-b9b0-f11b390d4167"
      },
      "execution_count": null,
      "outputs": [
        {
          "output_type": "execute_result",
          "data": {
            "text/plain": [
              "((719, 64), (719,))"
            ]
          },
          "metadata": {},
          "execution_count": 189
        }
      ]
    },
    {
      "cell_type": "code",
      "source": [
        "clf = svm.SVC(kernel='linear', C=.7).fit(x_train, y_train)\n",
        "clf.score(x_test, y_test)"
      ],
      "metadata": {
        "colab": {
          "base_uri": "https://localhost:8080/"
        },
        "id": "E5FZq9cegKYt",
        "outputId": "c3bd4b2a-b16c-4c0f-8da7-428f73f843d4"
      },
      "execution_count": null,
      "outputs": [
        {
          "output_type": "execute_result",
          "data": {
            "text/plain": [
              "0.9749652294853964"
            ]
          },
          "metadata": {},
          "execution_count": 190
        }
      ]
    },
    {
      "cell_type": "code",
      "source": [
        "# Computing cross-validated metrics\n",
        "# The simplest way to use cross-validation is to call the cross_val_score helper function on the estimator and the dataset.\n",
        "\n",
        "# The following example demonstrates how to estimate the accuracy of a linear kernel support vector machine on the iris dataset by splitting the data, fitting a model and computing the score 5 consecutive times (with different splits each time):\n",
        "\n",
        "from sklearn.model_selection import cross_val_score\n",
        "\n",
        "scores = cross_val_score(clf, x, y, cv=5)\n",
        "scores"
      ],
      "metadata": {
        "colab": {
          "base_uri": "https://localhost:8080/"
        },
        "id": "kwEjrAMdkVSO",
        "outputId": "e0945359-97f0-4dff-8312-a4d691218333"
      },
      "execution_count": null,
      "outputs": [
        {
          "output_type": "execute_result",
          "data": {
            "text/plain": [
              "array([0.96388889, 0.91944444, 0.96657382, 0.9637883 , 0.92479109])"
            ]
          },
          "metadata": {},
          "execution_count": 192
        }
      ]
    },
    {
      "cell_type": "code",
      "source": [
        "# The mean score and the standard deviation are hence given by:\n",
        "print('Mean:',scores.mean(),'Standard Deviation:', scores.std())"
      ],
      "metadata": {
        "colab": {
          "base_uri": "https://localhost:8080/"
        },
        "id": "2Yp1njZFki87",
        "outputId": "9c3b7031-c784-46db-edaf-dc9d08e372f0"
      },
      "execution_count": null,
      "outputs": [
        {
          "output_type": "stream",
          "name": "stdout",
          "text": [
            "Mean: 0.9476973073351903 Standard Deviation: 0.020977746264099654\n"
          ]
        }
      ]
    },
    {
      "cell_type": "code",
      "source": [
        "\n",
        "from sklearn import metrics\n",
        "scores = cross_val_score(clf, x, y, cv=5, scoring='f1_macro')\n",
        "scores"
      ],
      "metadata": {
        "colab": {
          "base_uri": "https://localhost:8080/"
        },
        "id": "Ug5TQXQ4krfX",
        "outputId": "0e555ddf-0bec-49fc-d199-45a1f68998c5"
      },
      "execution_count": null,
      "outputs": [
        {
          "output_type": "execute_result",
          "data": {
            "text/plain": [
              "array([0.96401559, 0.91911721, 0.96570385, 0.96355856, 0.92508842])"
            ]
          },
          "metadata": {},
          "execution_count": 195
        }
      ]
    },
    {
      "cell_type": "code",
      "source": [
        "from sklearn.model_selection import ShuffleSplit\n",
        "n_samples = x.shape[0]\n",
        "cv = ShuffleSplit(n_splits=5, test_size=0.3, random_state=0)\n",
        "cross_val_score(clf, x, y, cv=cv)"
      ],
      "metadata": {
        "colab": {
          "base_uri": "https://localhost:8080/"
        },
        "id": "Nx7MbYFRklxD",
        "outputId": "66a64b17-218b-44e0-f25f-86cc8076e3f9"
      },
      "execution_count": null,
      "outputs": [
        {
          "output_type": "execute_result",
          "data": {
            "text/plain": [
              "array([0.97407407, 0.97407407, 0.98703704, 0.97777778, 0.97222222])"
            ]
          },
          "metadata": {},
          "execution_count": 196
        }
      ]
    }
  ]
}